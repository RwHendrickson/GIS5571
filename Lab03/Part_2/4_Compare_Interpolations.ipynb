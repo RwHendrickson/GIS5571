{
 "cells": [
  {
   "cell_type": "code",
   "execution_count": 1,
   "id": "86b2b4fc",
   "metadata": {},
   "outputs": [],
   "source": [
    "### Import Libraries\n",
    "\n",
    "# File manipulation\n",
    "\n",
    "import os # For working with Operating System\n",
    "import time # time stuff\n",
    "\n",
    "# Analysis\n",
    "\n",
    "import numpy as np # For working with Arrays\n",
    "import pandas as pd # Data Manipulation\n",
    "\n",
    "# import Arcpy\n",
    "\n",
    "import arcpy\n",
    "\n",
    "# Set Working Directory\n",
    "\n",
    "cwd =  'C:\\\\Users\\\\HAL\\\\Desktop\\\\Lab03_Part_2' # At home\n",
    "# cwd = 'C:\\\\Users\\\\hendr862\\\\Desktop\\\\Lab03_Part_2'\n",
    "\n",
    "arcpy.env.workspace = os.path.join(cwd, 'Arc1_Lab03_Part2.gdb') #os.path.join(os.getcwd(), 'Arc1_Lab03_Part2.gdb')"
   ]
  },
  {
   "cell_type": "code",
   "execution_count": 2,
   "id": "b515ffb6",
   "metadata": {},
   "outputs": [],
   "source": [
    "# Save visualizations (Make sure all elements are not visible before)\n",
    "\n",
    "project_path = os.path.join(cwd, 'Arc1_Lab03_Part2.aprx')\n",
    "aprx = arcpy.mp.ArcGISProject(project_path) # Get project\n",
    "mp = aprx.listMaps('Map')[0] # Get map\n",
    "lyt = aprx.listLayouts(\"Layout\")[0] # Get layout\n",
    "elements = lyt.listElements() # Get Elements\n",
    "title_element = elements[1] # Get title element\n",
    "legend_element = elements[0] # Get legend element"
   ]
  },
  {
   "cell_type": "code",
   "execution_count": 3,
   "id": "ba8c9f9c",
   "metadata": {},
   "outputs": [
    {
     "data": {
      "text/plain": [
       "[<arcpy._mp.LegendElement object at 0x000001CF24254FA0>, <arcpy._mp.TextElement object at 0x000001CF24254BB0>, <arcpy._mp.MapFrame object at 0x000001CF24254B20>]"
      ]
     },
     "execution_count": 3,
     "metadata": {},
     "output_type": "execute_result"
    }
   ],
   "source": [
    "elements"
   ]
  },
  {
   "cell_type": "code",
   "execution_count": 5,
   "id": "4adb6a4e",
   "metadata": {},
   "outputs": [
    {
     "name": "stdout",
     "output_type": "stream",
     "text": [
      "Spline_Month_Min_Temp.tif\n",
      "Krig_Month_Min_Temp.tif\n",
      "IDW_Month_Min_Temp.tif\n",
      "IDW_Month_Max_Temp.tif\n",
      "Krig_Month_Max_Temp.tif\n",
      "Spline_Month_Max_Temp.tif\n"
     ]
    }
   ],
   "source": [
    "# Plot them all - Make sure all group layers and tifs are not activated\n",
    "\n",
    "# This is just not updating the legend!!!!!!\n",
    "# Grr, gonna have to do it manually\n",
    "\n",
    "for l in mp.listLayers():\n",
    "    \n",
    "    if l.isGroupLayer:\n",
    "        l.visible = True\n",
    "        time.sleep(15)\n",
    "        for lyr in l.listLayers():            \n",
    "            if lyr.name != 'MonthlyAverageDailyTemps':\n",
    "                print(lyr.name)\n",
    "                title = lyr.name[:-4] + ' Interpolation' # Get Name for title\n",
    "                title_element.text = title # Replace with proper title\n",
    "                savepath = os.path.join(cwd, title + '.pdf')\n",
    "                time.sleep(15)\n",
    "                lyr.visible = True # Make layer visible\n",
    "                time.sleep(15)\n",
    "                lyt.exportToPDF(savepath, resolution = 200) # Save=\n",
    "                time.sleep(15)\n",
    "                lyr.visible = False # Turn off layer\n",
    "                time.sleep(15)\n",
    "        l.visible = False\n",
    "        time.sleep(15)"
   ]
  },
  {
   "cell_type": "code",
   "execution_count": null,
   "id": "da8ddbd2",
   "metadata": {},
   "outputs": [],
   "source": []
  }
 ],
 "metadata": {
  "kernelspec": {
   "display_name": "ArcGISPro",
   "language": "Python",
   "name": "python3"
  },
  "language_info": {
   "file_extension": ".py",
   "name": "python",
   "version": "3"
  }
 },
 "nbformat": 4,
 "nbformat_minor": 5
}
