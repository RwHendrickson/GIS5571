{
 "cells": [
  {
   "cell_type": "markdown",
   "metadata": {},
   "source": [
    "# Lab03 Part 2: Interpolate\n",
    "\n",
    "By Rob Hendrickson"
   ]
  },
  {
   "cell_type": "code",
   "execution_count": 2,
   "metadata": {},
   "outputs": [],
   "source": [
    "### Import Libraries\n",
    "\n",
    "# File manipulation\n",
    "\n",
    "import os # For working with Operating System\n",
    "\n",
    "# Analysis\n",
    "\n",
    "import numpy as np # For working with Arrays\n",
    "import pandas as pd # Data Manipulation\n",
    "\n",
    "# import Arcpy\n",
    "\n",
    "import arcpy\n",
    "\n",
    "# Set Working Directory\n",
    "\n",
    "# cwd =  'C:\\\\Users\\\\HAL\\\\Desktop\\\\Lab03_Part_2' # At home\n",
    "cwd = 'C:\\\\Users\\\\hendr862\\\\Desktop\\\\Lab03_Part_2'\n",
    "\n",
    "arcpy.env.workspace = os.path.join(cwd, 'Arc1_Lab03_Part2.gdb') #os.path.join(os.getcwd(), 'Arc1_Lab03_Part2.gdb')"
   ]
  },
  {
   "cell_type": "code",
   "execution_count": 3,
   "metadata": {},
   "outputs": [
    {
     "data": {
      "text/plain": [
       "'C:\\\\Users\\\\hendr862\\\\Desktop\\\\Lab03_Part_2\\\\Arc1_Lab03_Part2.gdb'"
      ]
     },
     "execution_count": 3,
     "metadata": {},
     "output_type": "execute_result"
    }
   ],
   "source": [
    "arcpy.env.workspace"
   ]
  },
  {
   "cell_type": "markdown",
   "metadata": {},
   "source": [
    "## Add to GeoDataBase"
   ]
  },
  {
   "cell_type": "code",
   "execution_count": 4,
   "metadata": {},
   "outputs": [
    {
     "data": {
      "text/html": [
       "<div class='gpresult'><h2>Messages</h2><div id='messages' data-messages='[\"Start Time: Wednesday, December 7, 2022 2:54:37 PM\",\"Succeeded at Wednesday, December 7, 2022 2:54:39 PM (Elapsed Time: 1.53 seconds)\"]' data-show='true'><div id = 'default' /></div></div>"
      ],
      "text/plain": [
       "<Result 'C:\\\\Users\\\\hendr862\\\\Desktop\\\\Lab03_Part_2\\\\Arc1_Lab03_Part2.gdb\\\\MonthlyAverageDailyTemps'>"
      ]
     },
     "execution_count": 4,
     "metadata": {},
     "output_type": "execute_result"
    }
   ],
   "source": [
    "# Add Geojsons to GeoDataBase\n",
    "\n",
    "feature_name = 'MonthlyAverageDailyTemps'\n",
    "        \n",
    "arcpy.JSONToFeatures_conversion('temps.geojson', feature_name, 'Point')"
   ]
  },
  {
   "cell_type": "markdown",
   "metadata": {},
   "source": [
    "## Interpolate"
   ]
  },
  {
   "cell_type": "code",
   "execution_count": 5,
   "metadata": {},
   "outputs": [],
   "source": [
    "cols_to_interp = ['Min_Temp', 'Max_Temp']\n",
    "\n",
    "for col in cols_to_interp:\n",
    "    \n",
    "    base_savename = '_Month_' + col\n",
    "    \n",
    "    # IDW\n",
    "    savename = 'IDW' + base_savename + '.tif'\n",
    "\n",
    "    IDW_Month_Interp = arcpy.sa.Idw(\"MonthlyAverageDailyTemps\", \n",
    "                                    col, \n",
    "                                    10000, \n",
    "                                    2, \n",
    "                                    \"VARIABLE 10\", \n",
    "                                    None);\n",
    "    IDW_Month_Interp.save(os.path.join(cwd,'Interpolations',savename))\n",
    "    # Kriging\n",
    "    savename = 'Krig' + base_savename + '.tif'\n",
    "    error_savename ='Krig_Error' + base_savename\n",
    "\n",
    "    Krig_Month_Interp = arcpy.sa.Kriging(\"MonthlyAverageDailyTemps\",\n",
    "                                         col,\n",
    "                                         \"Spherical 5000.000000 # # #\",\n",
    "                                          10000,\n",
    "                                         \"VARIABLE 10\",\n",
    "                                         error_savename); \n",
    "    Krig_Month_Interp.save(os.path.join(cwd,'Interpolations',savename))\n",
    "    # Spline (RBF)\n",
    "    \n",
    "    savename = 'Spline' + base_savename + '.tif'\n",
    "\n",
    "    Spline_Month_Interp = arcpy.sa.Spline(\"MonthlyAverageDailyTemps\",\n",
    "                                          col,\n",
    "                                          10000,\n",
    "                                          \"REGULARIZED\",\n",
    "                                          0.1,\n",
    "                                          10);\n",
    "    Spline_Month_Interp.save(os.path.join(cwd,'Interpolations',savename))"
   ]
  },
  {
   "cell_type": "code",
   "execution_count": null,
   "metadata": {},
   "outputs": [],
   "source": [
    "# Going to look at them and symbolize one"
   ]
  },
  {
   "cell_type": "code",
   "execution_count": 40,
   "metadata": {},
   "outputs": [
    {
     "data": {
      "text/html": [
       "<div class='gpresult'><h2>Messages</h2><div id='messages' data-messages='[\"Start Time: Tuesday, December 6, 2022 9:59:35 PM\",\"Succeeded at Tuesday, December 6, 2022 9:59:35 PM (Elapsed Time: 0.03 seconds)\"]' data-show='true'><div id = 'default' /></div></div>"
      ],
      "text/plain": [
       "<Result 'Krig_Month_Avg'>"
      ]
     },
     "execution_count": 40,
     "metadata": {},
     "output_type": "execute_result"
    }
   ],
   "source": [
    "# Same symbology as IDW\n",
    "\n",
    "arcpy.management.ApplySymbologyFromLayer(\"Krig_Month_Avg\", \"IDW_Month_Avg\", None, \"MAINTAIN\")"
   ]
  },
  {
   "cell_type": "code",
   "execution_count": null,
   "metadata": {},
   "outputs": [],
   "source": []
  }
 ],
 "metadata": {
  "kernelspec": {
   "display_name": "Python 3 (ipykernel)",
   "language": "python",
   "name": "python3"
  },
  "language_info": {
   "codemirror_mode": {
    "name": "ipython",
    "version": 3
   },
   "file_extension": ".py",
   "mimetype": "text/x-python",
   "name": "python",
   "nbconvert_exporter": "python",
   "pygments_lexer": "ipython3",
   "version": "3.10.8"
  }
 },
 "nbformat": 4,
 "nbformat_minor": 4
}
