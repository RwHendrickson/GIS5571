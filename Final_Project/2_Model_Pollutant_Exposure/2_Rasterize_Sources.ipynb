{
 "cells": [
  {
   "cell_type": "markdown",
   "id": "1dea7b01-f13a-4141-960d-3ec305d94459",
   "metadata": {},
   "source": [
    "# Cummulative Industry Exposure"
   ]
  },
  {
   "cell_type": "code",
   "execution_count": 1,
   "id": "2c2f06db-2462-47a4-b8b9-8fd9cf39043c",
   "metadata": {},
   "outputs": [],
   "source": [
    "# Import libraries\n",
    "\n",
    "# System\n",
    "\n",
    "import os\n",
    "\n",
    "# Analysis\n",
    "\n",
    "import numpy as np # Numerical Analysis\n",
    "import pandas as pd # Data Mgmt\n",
    "import geopandas as gpd # Spatial Data Mgmt\n",
    "import rasterio # Rasters\n",
    "from rasterio import features"
   ]
  },
  {
   "cell_type": "code",
   "execution_count": 2,
   "id": "164f2ce6-fffe-418c-a7dd-d7a9ed17f8ba",
   "metadata": {},
   "outputs": [],
   "source": [
    "# Load Data\n",
    "\n",
    "# Minneapolis Boundary\n",
    "\n",
    "mpls_path = os.path.join(os.getcwd(), '..', '1_Data_IO', 'Data', 'mpls_boundary.geojson')\n",
    "mpls = gpd.read_file(mpls_path)\n",
    "\n",
    "# Average Annual Daily Traffic (AADT)\n",
    "\n",
    "aadt_path = os.path.join(os.getcwd(), '..', '1_Data_IO', 'Data', 'aadt.geojson')\n",
    "aadt = gpd.read_file(aadt_path)\n",
    "\n",
    "# Permitted Emissions\n",
    "\n",
    "emissions_path = os.path.join(os.getcwd(), '..', '1_Data_IO', 'Data', 'emissions.csv')\n",
    "emissions = pd.read_csv(emissions_path)\n",
    "emissions_geo = gpd.GeoDataFrame(emissions,\n",
    "                                 crs = 'EPSG:26915',\n",
    "                                 geometry = gpd.points_from_xy(x=emissions.EASTING,\n",
    "                                                                 y=emissions.NORTHING)\n",
    "                                )"
   ]
  },
  {
   "cell_type": "markdown",
   "id": "ceb00ff0-7160-40e4-82f1-a060a4f3b8cb",
   "metadata": {},
   "source": [
    "## Prep"
   ]
  },
  {
   "cell_type": "markdown",
   "id": "33c5884b-9bbc-4bdd-be28-d415f8e76e9b",
   "metadata": {},
   "source": [
    "### Clip"
   ]
  },
  {
   "cell_type": "code",
   "execution_count": 3,
   "id": "18d98c39-ef23-4882-9881-b8b4f4027f94",
   "metadata": {},
   "outputs": [
    {
     "name": "stderr",
     "output_type": "stream",
     "text": [
      "/home/robb/miniconda3/envs/gis5571/lib/python3.10/site-packages/geopandas/tools/clip.py:66: FutureWarning: In a future version, `df.iloc[:, i] = newvals` will attempt to set the values inplace instead of always setting a new array. To retain the old behavior, use either `df[df.columns[i]] = newvals` or, if columns are non-unique, `df.isetitem(i, newvals)`\n",
      "  clipped.loc[\n"
     ]
    }
   ],
   "source": [
    "# Study is everything within 8 km of minneapolis\n",
    "\n",
    "mpls_buffed = mpls.geometry.buffer(8000)\n",
    "\n",
    "emissions_select = gpd.clip(emissions_geo, mpls_buffed)\n",
    "\n",
    "aadt_select = gpd.clip(aadt, mpls_buffed)"
   ]
  },
  {
   "cell_type": "markdown",
   "id": "2bc91613-5d42-409f-910a-5a01016a32a6",
   "metadata": {},
   "source": [
    "### Define Layers"
   ]
  },
  {
   "cell_type": "code",
   "execution_count": 4,
   "id": "f4ad12e8-9052-4555-b9a7-0f5c0184e19a",
   "metadata": {},
   "outputs": [],
   "source": [
    "# 1) AADT is only current values for now\n",
    "\n",
    "# 2) Emissions can be current and cummulative\n",
    "\n",
    "# Pollutants of interest: 'Sulfur Dioxide', 'PM Primary', 'PM10 Primary', 'PM2.5 Primary',\n",
    "# 'Volatile Organic Compounds'] \n",
    "# But there's also all the dioxins... \"Plastics\" that are measured every 5 years or so\n",
    "\n",
    "pollutant_names = ['Sulfur Dioxide', 'PM Primary', 'PM10 Primary', 'PM2.5 Primary', 'Volatile Organic Compounds']"
   ]
  },
  {
   "cell_type": "markdown",
   "id": "3ae67f7e-0f8d-4dd2-abb6-059350634950",
   "metadata": {},
   "source": [
    "## Rasterize Using Rasterio"
   ]
  },
  {
   "cell_type": "code",
   "execution_count": 5,
   "id": "1725f2e7-9de8-4bfd-a227-c0c4b6b2e6c2",
   "metadata": {},
   "outputs": [],
   "source": [
    "# Get metadata from template\n",
    "rst = rasterio.open('template.tif') # Open template\n",
    "meta = rst.meta.copy() # Copy template metadata\n",
    "# meta.update(compress='lzw') # Good for integers/categorical rasters\n",
    "rst.close()"
   ]
  },
  {
   "cell_type": "markdown",
   "id": "8670c3f7-2804-4a7c-8e8e-69e86df6661b",
   "metadata": {},
   "source": [
    "### AADT"
   ]
  },
  {
   "cell_type": "code",
   "execution_count": 6,
   "id": "cabdc3c1-f135-4668-8aaf-878833f818a5",
   "metadata": {},
   "outputs": [],
   "source": [
    "# Filenames\n",
    "out_fn = os.path.join('Rasterized_Sources','rasterized_aadt.tif')\n",
    "\n",
    "with rasterio.open(out_fn, 'w+', **meta) as out: # Burn features into raster\n",
    "    out_arr = out.read(1)\n",
    "    \n",
    "    aadt_sorted = aadt_select.sort_values('CURRENT_VO') # Sort by current vo for burning highest value\n",
    "\n",
    "    # this is where we create a generator of geom, value pairs to use in rasterizing\n",
    "    shapes = ((geom,value) for geom, value in zip(aadt_sorted.geometry, aadt_sorted.CURRENT_VO))\n",
    "\n",
    "    burned = features.rasterize(shapes=shapes, \n",
    "                                fill=0, \n",
    "                                out=out_arr, \n",
    "                                transform=out.transform)#,\n",
    "                                # merge_alg=rasterio.enums.MergeAlg.add) # This didn't work, it doubled up on vertices\n",
    "                                        # ^Cummulative AADT if roads on top of eachother\n",
    "                                        # Instead we just use highest value for each pixel\n",
    "    out.write_band(1, burned)"
   ]
  },
  {
   "cell_type": "markdown",
   "id": "474b0c78-5456-4a08-887e-e74b6cebabf8",
   "metadata": {},
   "source": [
    "### Cummulative Emissions"
   ]
  },
  {
   "cell_type": "code",
   "execution_count": 7,
   "id": "1bcf2e34-c0cd-4a5f-94d5-8c23074d206e",
   "metadata": {
    "tags": []
   },
   "outputs": [],
   "source": [
    "for pollutant_name in pollutant_names:\n",
    "    \n",
    "    # Select data\n",
    "    pollutant_select = emissions_select[emissions_select.POLLUTANT == pollutant_name]\n",
    "    \n",
    "    # Filenames\n",
    "    out_fn = os.path.join('Rasterized_Sources','rasterized_' + pollutant_name + '_cummulative.tif')\n",
    "\n",
    "    with rasterio.open(out_fn, 'w+', **meta) as out: # Burn features into template raster\n",
    "            \n",
    "        out_arr = out.read(1)\n",
    "\n",
    "        # this is where we create a generator of geom, value pairs to use in rasterizing\n",
    "        shapes = ((geom,value) for geom, value in zip(pollutant_select.geometry, pollutant_select.LBS_EMITTED))\n",
    "\n",
    "        burned = features.rasterize(shapes=shapes, \n",
    "                                    fill=0, \n",
    "                                    out=out_arr, \n",
    "                                    transform=out.transform,\n",
    "                                    merge_alg=rasterio.enums.MergeAlg.add) \n",
    "                                            # ^Cummulative emissions if facilities on top of eachother\n",
    "        out.write_band(1, burned)"
   ]
  },
  {
   "cell_type": "markdown",
   "id": "b4786cf9-af0e-4eb2-8a95-63e7506426a9",
   "metadata": {},
   "source": [
    "### Current"
   ]
  },
  {
   "cell_type": "code",
   "execution_count": 8,
   "id": "c0f1d3ac-e95f-4306-8736-96f423c284bf",
   "metadata": {},
   "outputs": [],
   "source": [
    "current_emissions_select = emissions_select[emissions_select.YEAR == 2020]"
   ]
  },
  {
   "cell_type": "code",
   "execution_count": 9,
   "id": "5994bbe5-cf9c-453a-a202-3e0540ddc1f4",
   "metadata": {
    "tags": []
   },
   "outputs": [],
   "source": [
    "for pollutant_name in pollutant_names:\n",
    "    \n",
    "    # Select data\n",
    "    current_pollutant_select = current_emissions_select[current_emissions_select.POLLUTANT == pollutant_name]\n",
    "    \n",
    "    # Filenames\n",
    "    out_fn = os.path.join('Rasterized_Sources','rasterized_' + pollutant_name + '_current.tif')\n",
    "\n",
    "    with rasterio.open(out_fn, 'w+', **meta) as out: # Burn features into template raster\n",
    "            \n",
    "        out_arr = out.read(1)\n",
    "\n",
    "        # this is where we create a generator of geom, value pairs to use in rasterizing\n",
    "        shapes = ((geom,value) for geom, value in zip(current_pollutant_select.geometry, current_pollutant_select.LBS_EMITTED))\n",
    "\n",
    "        burned = features.rasterize(shapes=shapes, \n",
    "                                    fill=0, \n",
    "                                    out=out_arr, \n",
    "                                    transform=out.transform,\n",
    "                                    merge_alg=rasterio.enums.MergeAlg.add) \n",
    "                                            # ^Cummulative emissions if facilities on top of eachother\n",
    "        out.write_band(1, burned)"
   ]
  }
 ],
 "metadata": {
  "kernelspec": {
   "display_name": "Python 3 (ipykernel)",
   "language": "python",
   "name": "python3"
  },
  "language_info": {
   "codemirror_mode": {
    "name": "ipython",
    "version": 3
   },
   "file_extension": ".py",
   "mimetype": "text/x-python",
   "name": "python",
   "nbconvert_exporter": "python",
   "pygments_lexer": "ipython3",
   "version": "3.10.6"
  }
 },
 "nbformat": 4,
 "nbformat_minor": 5
}
