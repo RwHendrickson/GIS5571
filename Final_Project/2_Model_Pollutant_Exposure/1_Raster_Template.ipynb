{
 "cells": [
  {
   "cell_type": "markdown",
   "id": "c94d88e4-fa73-49cc-a68c-4ac2c7a6067a",
   "metadata": {},
   "source": [
    "# Create Raster Template"
   ]
  },
  {
   "cell_type": "code",
   "execution_count": 1,
   "id": "c446f03a-4945-4a1d-9bc1-89472fca98f4",
   "metadata": {},
   "outputs": [],
   "source": [
    "# Import libraries\n",
    "\n",
    "# System\n",
    "\n",
    "import os\n",
    "\n",
    "# Analysis\n",
    "\n",
    "import numpy as np # Numerical Analysis\n",
    "import geopandas as gpd # Spatial Data Mgmt\n",
    "import rasterio # Rasters\n",
    "from rasterio.transform import Affine # Transformations"
   ]
  },
  {
   "cell_type": "code",
   "execution_count": 2,
   "id": "04276288-e4c8-4633-9f0f-0848150e06a2",
   "metadata": {},
   "outputs": [],
   "source": [
    "# Definitions\n",
    "\n",
    "def save_geotiff(array, name, crs, resolution, minx, miny):\n",
    "    '''Saves a numpy array into a geotiff.\n",
    "    \n",
    "    Give name as a string\n",
    "    crs as int, resolution as int\n",
    "    minx and miny both as floats\n",
    "    '''\n",
    "    transform = Affine.translation(minx - resolution / 2, miny - resolution / 2\\\n",
    "                              ) * Affine.scale(resolution, resolution)\n",
    "    \n",
    "    with rasterio.open(\n",
    "        os.path.join(\".\", name + '.tif'),\n",
    "        mode=\"w\",\n",
    "        driver=\"GTiff\",\n",
    "        height=array.shape[1],\n",
    "        width=array.shape[0],\n",
    "        count=1,\n",
    "        dtype= 'float64',\n",
    "        crs= rasterio.crs.CRS.from_epsg(crs),\n",
    "        transform=transform,\n",
    "    ) as new_dataset:\n",
    "        new_dataset.write(array, 1)"
   ]
  },
  {
   "cell_type": "code",
   "execution_count": 3,
   "id": "c846148d-a0c0-4e38-bed3-56375dc23648",
   "metadata": {},
   "outputs": [],
   "source": [
    "# Load Data\n",
    "\n",
    "# Minneapolis Boundary\n",
    "\n",
    "mpls_path = os.path.join(os.getcwd(), '..', '1_Data_IO', 'Data', 'mpls_boundary.geojson')\n",
    "mpls = gpd.read_file(mpls_path)"
   ]
  },
  {
   "cell_type": "markdown",
   "id": "122194ed-6264-4461-8e01-ece4e2a943fc",
   "metadata": {},
   "source": [
    "## Prep"
   ]
  },
  {
   "cell_type": "markdown",
   "id": "9b2ae41d-264c-40eb-9ce0-80d995fc80c5",
   "metadata": {},
   "source": [
    "### Define Boundary"
   ]
  },
  {
   "cell_type": "code",
   "execution_count": 4,
   "id": "433a7923-49ae-4992-9c57-818ac1e62635",
   "metadata": {},
   "outputs": [
    {
     "name": "stdout",
     "output_type": "stream",
     "text": [
      "height =  33855.989475003444 width =  26629.013039288344\n"
     ]
    }
   ],
   "source": [
    "# Let's start with just stuff within 8 km of minneapolis\n",
    "\n",
    "mpls_buffed = mpls.geometry.buffer(8000)\n",
    "\n",
    "# Get important info\n",
    "\n",
    "extent = mpls_buffed.geometry.total_bounds # minx, miny, maxx, maxy\n",
    "\n",
    "minx = extent[0]\n",
    "miny = extent[1]\n",
    "maxx = extent[2]\n",
    "maxy = extent[3]\n",
    "\n",
    "height = extent[3] - extent[1]\n",
    "width = extent[2] - extent[0]\n",
    "\n",
    "print('height = ', height, 'width = ', width)"
   ]
  },
  {
   "cell_type": "markdown",
   "id": "acc97a31-8e7e-480c-8cee-162ec9df78f0",
   "metadata": {},
   "source": [
    "### Create Raster"
   ]
  },
  {
   "cell_type": "code",
   "execution_count": 5,
   "id": "54d5aa59-6a2b-4757-8f59-ee93745c9fe4",
   "metadata": {},
   "outputs": [
    {
     "name": "stdout",
     "output_type": "stream",
     "text": [
      "Corrected Height (for 50m resolution) =  33900.0 width =  26650.0\n",
      "x_cells =  533.0 \n",
      "y_cells =  678.0\n"
     ]
    }
   ],
   "source": [
    "# Create raster\n",
    "\n",
    "resolution = 50 # Want maybe 50 meter x 50 meter cells\n",
    "\n",
    "# Find the bounding box corrections \n",
    "#   needed to make a raster with this resolution \n",
    "\n",
    "x_correction = resolution - np.mod(width, resolution)\n",
    "y_correction = resolution - np.mod(height, resolution)\n",
    "\n",
    "# Split correction amongst min & maxs\n",
    "\n",
    "new_minx = minx - x_correction/2\n",
    "new_maxx = maxx + x_correction/2\n",
    "new_miny = miny - y_correction/2\n",
    "new_maxy = maxy + y_correction/2\n",
    "\n",
    "# New heights\n",
    "\n",
    "height = new_maxy - new_miny\n",
    "width = new_maxx - new_minx\n",
    "\n",
    "print('Corrected Height (for 50m resolution) = ', height, 'width = ', width)\n",
    "\n",
    "x_cells = width/resolution\n",
    "y_cells = height/resolution\n",
    "\n",
    "print('x_cells = ', x_cells, '\\ny_cells = ', y_cells)"
   ]
  },
  {
   "cell_type": "code",
   "execution_count": 6,
   "id": "a4ef17f7-2709-48fa-a3da-a34e691ca7d6",
   "metadata": {},
   "outputs": [],
   "source": [
    "# Create Numpy Grid - Must mannual input cells from above.......\n",
    "\n",
    "raster = np.mgrid[new_minx:new_maxx:533j,\n",
    "              new_miny:new_maxy:678j]"
   ]
  },
  {
   "cell_type": "markdown",
   "id": "7a6fd2a2-3a80-4dfb-afee-bdf174299628",
   "metadata": {},
   "source": [
    "## Save"
   ]
  },
  {
   "cell_type": "code",
   "execution_count": 7,
   "id": "e27d5880-3e7c-4c72-ae22-3a764ec82a00",
   "metadata": {},
   "outputs": [],
   "source": [
    "# Save Template as numpy raster\n",
    "\n",
    "np.save('template', raster)"
   ]
  },
  {
   "cell_type": "code",
   "execution_count": 8,
   "id": "704ae003-ca9a-4914-8dce-5180f654b414",
   "metadata": {},
   "outputs": [],
   "source": [
    "# Save Template as a GeoTiff\n",
    "\n",
    "array_temp = np.empty([int(x_cells), int(y_cells)])\n",
    "\n",
    "save_geotiff(array_temp, 'template', 26915, resolution, minx, miny)"
   ]
  }
 ],
 "metadata": {
  "kernelspec": {
   "display_name": "Python 3 (ipykernel)",
   "language": "python",
   "name": "python3"
  },
  "language_info": {
   "codemirror_mode": {
    "name": "ipython",
    "version": 3
   },
   "file_extension": ".py",
   "mimetype": "text/x-python",
   "name": "python",
   "nbconvert_exporter": "python",
   "pygments_lexer": "ipython3",
   "version": "3.10.8"
  }
 },
 "nbformat": 4,
 "nbformat_minor": 5
}
