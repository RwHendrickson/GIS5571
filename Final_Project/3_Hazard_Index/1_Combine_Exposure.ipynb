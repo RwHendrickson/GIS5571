{
 "cells": [
  {
   "cell_type": "markdown",
   "id": "9befc05f-43e0-4029-9e6b-a7c1d69c47f5",
   "metadata": {},
   "source": [
    "# Cummulative Industry Exposure"
   ]
  },
  {
   "cell_type": "code",
   "execution_count": 1,
   "id": "2a424920-b8d7-4a40-bde3-a802c72dc9e1",
   "metadata": {},
   "outputs": [],
   "source": [
    "# Import libraries\n",
    "\n",
    "# System\n",
    "\n",
    "import os\n",
    "\n",
    "# Analysis\n",
    "\n",
    "import numpy as np # Numerical Analysis\n",
    "import pandas as pd # Data Mgmt\n",
    "import geopandas as gpd # Spatial Data Mgmt\n",
    "import rasterio # Rasters\n",
    "from rasterio.transform import Affine\n",
    "from rasterio import features\n",
    "\n",
    "# Visualization\n",
    "\n",
    "import matplotlib.pyplot as plt # Basic Plotting\n",
    "plt.style.use('ggplot') # \n",
    "import seaborn as sns # Statistical Plotting\n",
    "import contextily # Base Map Visualization"
   ]
  },
  {
   "cell_type": "code",
   "execution_count": 2,
   "id": "41262926-c477-456c-894e-12cf2a0ded5e",
   "metadata": {},
   "outputs": [],
   "source": [
    "# Definitions\n",
    "\n",
    "def Save_array_to_geotiff_template(array, template_path, save_path):\n",
    "    '''Saves a numpy array into a geotiff with the same CRS as the template.\n",
    "    '''            \n",
    "\n",
    "    # Get metadata from template\n",
    "    rst = rasterio.open(template_path) # Open template\n",
    "    meta = rst.meta.copy() # Copy template metadata\n",
    "    # meta.update(compress='lzw') # Good for integers/categorical rasters\n",
    "    rst.close()\n",
    "\n",
    "    with rasterio.open(save_path, 'w+', **meta) as out: # Burn features into raster\n",
    "        out.write_band(1, array)"
   ]
  },
  {
   "cell_type": "code",
   "execution_count": 3,
   "id": "05601a81-457c-4a49-b198-7203bb76b442",
   "metadata": {},
   "outputs": [],
   "source": [
    "rst = rasterio.open('../2_Model_Pollutant_Exposure/template.tif') # Open template\n",
    "meta = rst.meta.copy() # Copy template metadata\n",
    "# meta.update(compress='lzw') # Good for integers/categorical rasters\n",
    "rst.close()"
   ]
  },
  {
   "cell_type": "code",
   "execution_count": 4,
   "id": "ab7b2ec9-0ca1-4029-b8dd-4831b5e739bc",
   "metadata": {},
   "outputs": [],
   "source": [
    "# Load raster template\n",
    "\n",
    "raster_path = os.path.join(os.getcwd(), '..', '2_Model_Pollutant_Exposure', 'template.npy')\n",
    "\n",
    "raster = np.load(raster_path)\n",
    "\n",
    "# Minneapolis Boundary\n",
    "\n",
    "mpls_path = os.path.join(os.getcwd(), '..', '1_Data_IO', 'Data', 'mpls_boundary.geojson')\n",
    "mpls = gpd.read_file(mpls_path)"
   ]
  },
  {
   "cell_type": "code",
   "execution_count": 5,
   "id": "1453bdc0-d0d0-4b9d-b23e-4ea05f014f94",
   "metadata": {},
   "outputs": [],
   "source": [
    "# Load rasterized exposures\n",
    "\n",
    "# Filenames\n",
    "\n",
    "path_to_layers = os.path.join(os.getcwd(), '..', '2_Model_Pollutant_Exposure', 'Modeled_Exposure')\n",
    "\n",
    "filenames = os.listdir(path_to_layers)\n",
    "filenames.remove('.ipynb_checkpoints')\n",
    "layernames = []\n",
    "\n",
    "rasts = []\n",
    "\n",
    "for filename in filenames:\n",
    "\n",
    "    path = os.path.join(path_to_layers, filename)\n",
    "    \n",
    "    layername = filename.split('_')[0]\n",
    "    \n",
    "    if layername != 'AADT' and layername != '.ipynb_checkpoints': # Current or cummulative for industrial pollutants\n",
    "        layername += '_' + filename.split('_')[1]\n",
    "        \n",
    "    layernames += [layername]\n",
    "    \n",
    "    rasterio_rast = rasterio.open(path)\n",
    "    \n",
    "    rasts += [rasterio_rast.read(1)]\n",
    "    \n",
    "    rasterio_rast.close()"
   ]
  },
  {
   "cell_type": "code",
   "execution_count": 6,
   "id": "c1b4782a-c760-40d0-9137-314ae0883714",
   "metadata": {},
   "outputs": [
    {
     "data": {
      "text/plain": [
       "['PM10Primary_cummulative',\n",
       " 'PMPrimary_cummulative',\n",
       " 'PMPrimary_current',\n",
       " 'PM25Primary_current',\n",
       " 'PM25Primary_cummulative',\n",
       " 'SulfurDioxide_current',\n",
       " 'VolatileOrganicCompounds_current',\n",
       " 'AADT',\n",
       " 'PM10Primary_current',\n",
       " 'VolatileOrganicCompounds_cummulative',\n",
       " 'SulfurDioxide_cummulative']"
      ]
     },
     "execution_count": 6,
     "metadata": {},
     "output_type": "execute_result"
    }
   ],
   "source": [
    "layernames"
   ]
  },
  {
   "cell_type": "code",
   "execution_count": 7,
   "id": "5ca30d12-91ce-4c20-bf23-7236dab45c0f",
   "metadata": {},
   "outputs": [],
   "source": [
    "# Weights? Let's try just looking at current pm2.5 and AADT\n",
    "# Weighted equally\n",
    "\n",
    "weights_tests = {}\n",
    "\n",
    "# First let's look at current pm2.5 and aadt\n",
    "\n",
    "for percent in np.linspace(0, 1, num=11):\n",
    "    \n",
    "    testname = str(int(percent*100)) + 'PM-' + str(int((1-percent)*100)) + 'T'\n",
    "\n",
    "    weights_tests[testname] = np.array([0,0,0,percent,0,0,0,1-percent,0,0,0])"
   ]
  },
  {
   "cell_type": "code",
   "execution_count": 8,
   "id": "a43072cd-eee5-4309-a7c3-1aba4a728d13",
   "metadata": {},
   "outputs": [],
   "source": [
    "# Sum them up?\n",
    "\n",
    "tests = {}\n",
    "\n",
    "for weights_testname in weights_tests:\n",
    "    \n",
    "    weights = weights_tests[weights_testname]\n",
    "\n",
    "    sums = np.zeros(rasts[0].shape)\n",
    "\n",
    "    for i, rast in enumerate(rasts):\n",
    "\n",
    "        sums += rast*weights[i]\n",
    "        \n",
    "    tests[weights_testname] = sums"
   ]
  },
  {
   "cell_type": "markdown",
   "id": "788713d3-386e-479a-818c-a9aacb179899",
   "metadata": {},
   "source": [
    "## Save"
   ]
  },
  {
   "cell_type": "code",
   "execution_count": 16,
   "id": "bdddd909-f125-43c9-8268-a3a980f551c2",
   "metadata": {},
   "outputs": [],
   "source": [
    "for testname in tests:\n",
    "    array = tests[testname]\n",
    "    template_path = '../2_Model_Pollutant_Exposure/template.tif'\n",
    "    save_path = os.path.join('Tests', testname + '_test.tif')\n",
    "    Save_array_to_geotiff_template(array, template_path, save_path)"
   ]
  },
  {
   "cell_type": "code",
   "execution_count": null,
   "id": "0f018676-c4f7-48b9-b3d2-fa345d30d8fb",
   "metadata": {},
   "outputs": [],
   "source": []
  }
 ],
 "metadata": {
  "kernelspec": {
   "display_name": "Python 3 (ipykernel)",
   "language": "python",
   "name": "python3"
  },
  "language_info": {
   "codemirror_mode": {
    "name": "ipython",
    "version": 3
   },
   "file_extension": ".py",
   "mimetype": "text/x-python",
   "name": "python",
   "nbconvert_exporter": "python",
   "pygments_lexer": "ipython3",
   "version": "3.10.8"
  }
 },
 "nbformat": 4,
 "nbformat_minor": 5
}
