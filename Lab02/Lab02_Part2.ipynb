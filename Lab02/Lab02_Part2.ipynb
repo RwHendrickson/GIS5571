{
 "cells": [
  {
   "cell_type": "markdown",
   "id": "c85a6d11",
   "metadata": {},
   "source": [
    "# Lab02 Part 1: Working LAS Files\n",
    "\n",
    "By Rob Hendrickson"
   ]
  },
  {
   "cell_type": "code",
   "execution_count": 1,
   "id": "1d60d066",
   "metadata": {},
   "outputs": [],
   "source": [
    "# Import Libraries\n",
    "\n",
    "# System\n",
    "\n",
    "import os # For working with Operating System\n",
    "import requests # For accessing websites\n",
    "import zipfile # For extracting from Zipfiles\n",
    "from io import BytesIO # For reading bytes objects\n",
    "\n",
    "# Analysis\n",
    "\n",
    "# import laspy # Working with LAS files\n",
    "import numpy as np # Numerical Python\n",
    "\n",
    "# # Arcpy Stuff\n",
    "\n",
    "# import arcpy # Arcpy\n",
    "\n",
    "# # Set Working Directory (Arcpy)\n",
    "\n",
    "# arcpy.env.workspace = os.getcwd() + 'Arc1_Lab02.gdb'"
   ]
  },
  {
   "cell_type": "markdown",
   "id": "e86007c7",
   "metadata": {
    "tags": []
   },
   "source": [
    "## Download Data\n",
    "\n",
    "Attributes:\n",
    "\n",
    "    - Dory doesn't like:\n",
    "        - fields in the spring\n",
    "        - water unless there's a bridge\n",
    "            - or it's shallow\n",
    "    - Optimize gradual slope (gradient is low)\n",
    "\n",
    "Need: Lidar... This includes classifications:\n",
    "\n",
    "- 2 Ground\n",
    "- 5  Vegetation\n",
    "- 6 – Building\n",
    "- 8 – Model Keypoint (points required to maintain surface integrity).\n",
    "- 9 – Water\n",
    "- 10 – Breakline Proximity. Points within 3 meters of a breakline\n",
    "- 12 – Overlap Points\n",
    "- 14 – Bridge Decks\n",
    "\n",
    "I wonder if we can deduce fields by Vegetation??\n",
    "\n",
    "Start: 44.127985, -92.148796\n",
    "End: North Picnic Area (about 44.054364, -92.044832)\n",
    "\n",
    "In Winona County...\n",
    "\n",
    "Lidar tiles needed from the `laz` directory found [here](https://resources.gisdata.mn.gov/pub/data/elevation/lidar/county/winona/).\n",
    "Figured out this list by looking at `tile_index_map.pdf` \n",
    "\n",
    "* `['5142-01-63','5142-01-64', '5158-01-01', '5158-01-02', `\n",
    "* `'4342-32-63','4342-32-64', '4358-32-01', '4358-32-02',  `\n",
    "* `'4342-31-63','4342-31-64', '4358-31-01', '4358-31-02',  `\n",
    "* `'4342-30-63','4342-30-64', '4358-30-01']`"
   ]
  },
  {
   "cell_type": "code",
   "execution_count": 2,
   "id": "7ba5f770",
   "metadata": {},
   "outputs": [],
   "source": [
    "# Download Data\n",
    "\n",
    "tile_indices = ['5142-01-63','5142-01-64', '5158-01-01', '5158-01-02', \n",
    "                '4342-32-63','4342-32-64', '4358-32-01', '4358-32-02',  \n",
    "                '4342-31-63','4342-31-64', '4358-31-01', '4358-31-02',  \n",
    "                '4342-30-63','4342-30-64', '4358-30-01']\n",
    "\n",
    "downloaded = True\n",
    "\n",
    "if not(downloaded):\n",
    "    # Takes like 5 minutes? Maybe?\n",
    "    # Total size is 306.8mb\n",
    "\n",
    "    base_url = 'https://resources.gisdata.mn.gov/pub/data/elevation/lidar/county/winona/'\n",
    "\n",
    "    for tile_index in tile_indices:\n",
    "\n",
    "        tile_name = tile_index + '.laz'\n",
    "        tile_url = base_url + 'laz/' + tile_name\n",
    "\n",
    "        savepath = os.path.join('Part_2_Tiles', tile_name)\n",
    "\n",
    "        if not(os.path.exists(savepath)):\n",
    "\n",
    "            response = requests.request(\"GET\", tile_url) # Get request\n",
    "\n",
    "            # Save\n",
    "\n",
    "            with open(savepath, \"wb\") as file:\n",
    "                file.write(response.content)"
   ]
  },
  {
   "cell_type": "code",
   "execution_count": 3,
   "id": "2d097d26",
   "metadata": {},
   "outputs": [],
   "source": [
    "# Laspy doesn't work with laszip files...\n",
    "\n",
    "# # Make into workable format using laspy\n",
    "# # see: https://medium.com/spatial-data-science/an-easy-way-to-work-and-visualize-lidar-data-in-python-eed0e028996c\n",
    "\n",
    "# for tile_index in tile_indices:\n",
    "    \n",
    "#     tile_name = tile_index + '.laz'\n",
    "#     path = os.path.join('Part_2_Tiles', tile_name)\n",
    "\n",
    "#     las = laspy.read(path)\n",
    "\n",
    "#     # Make into numpy 3d point cloud tensor\n",
    "\n",
    "#     point_data = np.stack([las.X, las.Y, las.Z], axis=0).transpose((1, 0))\n",
    "\n",
    "#     # Unique classifications?\n",
    "#     classifications = np.unique(np.array(las.classification))\n",
    "    \n",
    "#     print(classifications)\n",
    "    \n",
    "#     break"
   ]
  },
  {
   "cell_type": "code",
   "execution_count": 4,
   "id": "82fac7eb-e9c7-4da3-822d-803dee81f837",
   "metadata": {},
   "outputs": [],
   "source": [
    "# Load into arcpy...\n",
    "\n",
    "for tile_index in tile_indices:\n",
    "    \n",
    "    tile_name = tile_index + '.laz'\n",
    "    path = os.path.join('Part_2_Tiles', tile_name)\n",
    "\n",
    "    # las = laspy.read(path)"
   ]
  },
  {
   "cell_type": "code",
   "execution_count": null,
   "id": "27ca622c-eb3c-4dc8-88b1-bdcfe98e7ae4",
   "metadata": {},
   "outputs": [],
   "source": []
  }
 ],
 "metadata": {
  "kernelspec": {
   "display_name": "Python 3 (ipykernel)",
   "language": "python",
   "name": "python3"
  },
  "language_info": {
   "codemirror_mode": {
    "name": "ipython",
    "version": 3
   },
   "file_extension": ".py",
   "mimetype": "text/x-python",
   "name": "python",
   "nbconvert_exporter": "python",
   "pygments_lexer": "ipython3",
   "version": "3.10.6"
  }
 },
 "nbformat": 4,
 "nbformat_minor": 5
}
