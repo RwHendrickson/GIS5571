{
 "cells": [
  {
   "cell_type": "markdown",
   "id": "4852dc08-8db7-421e-bc4f-2e0c373de4d0",
   "metadata": {},
   "source": [
    "# Lab02 Part 1: Working LAS Files\n",
    "\n",
    "By Rob Hendrickson"
   ]
  },
  {
   "cell_type": "code",
   "execution_count": 11,
   "id": "a3f45ada-353c-4e60-9546-30c0d9441a7d",
   "metadata": {},
   "outputs": [],
   "source": [
    "# Import Libraries\n",
    "\n",
    "# System\n",
    "\n",
    "import os # For working with Operating System\n",
    "import requests # For accessing websites\n",
    "import zipfile # For extracting from Zipfiles\n",
    "from io import BytesIO, StringIO # For reading bytes objects\n",
    "\n",
    "# Analysis\n",
    "\n",
    "import laspy # Working with LAS files\n",
    "import numpy as np # Numerical Python\n",
    "\n"
   ]
  },
  {
   "cell_type": "code",
   "execution_count": 2,
   "id": "50c359a8-8ced-4b33-92f8-917f13af8cbb",
   "metadata": {},
   "outputs": [],
   "source": [
    "# Definitions"
   ]
  },
  {
   "cell_type": "markdown",
   "id": "a2193692-cc34-49da-ab7f-b2e193dee873",
   "metadata": {},
   "source": [
    "## 1\n",
    "\n",
    "Describe and build an ETL in ArcPro Jupyter Notebooks and arcpy that:\n",
    "\n",
    "a) Downloads .LAS files from MN DNR [1](https://resources.gisdata.mn.gov/pub/data/elevation/lidar/)\n",
    "    \n",
    "b) Converts the .LAS file into both a DEM and a TIN\n",
    "    \n",
    "c) Saves the new DEM and TIN to disk\n",
    "    \n",
    "d) Exports PDFs of the DEM and TIN with correct visualization (see [here](https://pro.arcgis.com/en/pro-app/latest/arcpy/mapping/introduction-to-arcpy-mp.htm))"
   ]
  },
  {
   "cell_type": "code",
   "execution_count": 3,
   "id": "ba28af23-e322-4ebb-bc88-11032ed45e97",
   "metadata": {},
   "outputs": [],
   "source": [
    "# Download Data\n",
    "\n",
    "url = 'https://resources.gisdata.mn.gov/pub/data/elevation/lidar/examples/lidar_sample/las/4342-14-05.las'\n",
    "\n",
    "response = requests.request(\"GET\", url) # Get request\n",
    "\n",
    "# Save\n",
    "\n",
    "with open(\"4342-14-05.las\", \"wb\") as file:\n",
    "    file.write(response.content)"
   ]
  },
  {
   "cell_type": "code",
   "execution_count": 13,
   "id": "52c169d8-c53f-4f96-87e4-eba853d757eb",
   "metadata": {},
   "outputs": [],
   "source": [
    "# Make into workable format using laspy\n",
    "# see: https://medium.com/spatial-data-science/an-easy-way-to-work-and-visualize-lidar-data-in-python-eed0e028996c\n",
    "\n",
    "las = laspy.read('4342-14-05.las')"
   ]
  },
  {
   "cell_type": "code",
   "execution_count": 23,
   "id": "b60a49d8-8577-4af6-9624-d1eb47d42b03",
   "metadata": {},
   "outputs": [],
   "source": [
    "classifications = np.unique(np.array(las.classification))"
   ]
  },
  {
   "cell_type": "code",
   "execution_count": 26,
   "id": "1c4efbbc-47c9-4de6-8a01-b2625e11a250",
   "metadata": {},
   "outputs": [],
   "source": [
    "# Make into 3d point cloud\n",
    "\n",
    "point_data = np.stack([las.X, las.Y, las.Z], axis=0).transpose((1, 0))"
   ]
  },
  {
   "cell_type": "code",
   "execution_count": 27,
   "id": "fb97ab8a-c26c-4314-b718-63346a40e021",
   "metadata": {},
   "outputs": [
    {
     "data": {
      "text/plain": [
       "array([[ 43075673, 493800480,     30840],\n",
       "       [ 43075635, 493800762,     30773],\n",
       "       [ 43075682, 493801171,     30765],\n",
       "       ...,\n",
       "       [ 43286079, 493469571,     29263],\n",
       "       [ 43285939, 493469579,     29263],\n",
       "       [ 43285795, 493469587,     29271]], dtype=int32)"
      ]
     },
     "execution_count": 27,
     "metadata": {},
     "output_type": "execute_result"
    }
   ],
   "source": [
    "point_data"
   ]
  },
  {
   "cell_type": "markdown",
   "id": "6a1b1930-df03-4f65-afab-130a5247b203",
   "metadata": {},
   "source": [
    "## 2\n",
    "\n",
    "Do side-by-side exploratory data analysis with a 2D map of the .las file on one\n",
    "pane and a 3D Scene of the .las file on another pane. This will be very\n",
    "computationally intensive, so use a small .las file. In your writeup, describe the\n",
    "features provided by ArcGIS for working with 2D and 3D visualization of .las files."
   ]
  },
  {
   "cell_type": "markdown",
   "id": "bf73f55b-4171-4ff6-812f-bc3d461465cc",
   "metadata": {},
   "source": [
    "## 3\n",
    "\n",
    "Describe and build an ETL in ArcPro Jupyter Notebooks that:\n",
    "\n",
    "a. Downloads the annual 30-Year Normals .bil files for precipitation from\n",
    "PRISM [2](https://prism.oregonstate.edu/normals/)\n",
    "\n",
    "- See https://prism.oregonstate.edu/documents/PRISM_downloads_web_service.pdf for details\n",
    "- File we want: PRISM_ppt_30yr_normal_4kmM3_annual_bil.zip\n",
    "\n",
    "b. Converts the data into a spacetime cube and exports it to disk (see here\n",
    "for example of final conversion step; to get to this point, you will need to\n",
    "go through other transformation steps likely) [3](https://www.esri.com/arcgis-blog/products/arcgis-pro/analytics/explore-your-raster-data-with-space-time-pattern-mining/)\n",
    "\n",
    "c. Export an animation of the timeseries"
   ]
  },
  {
   "cell_type": "code",
   "execution_count": null,
   "id": "0cd7f3a5-b5dd-43eb-a85d-4a317948f504",
   "metadata": {},
   "outputs": [],
   "source": []
  }
 ],
 "metadata": {
  "kernelspec": {
   "display_name": "Python 3 (ipykernel)",
   "language": "python",
   "name": "python3"
  },
  "language_info": {
   "codemirror_mode": {
    "name": "ipython",
    "version": 3
   },
   "file_extension": ".py",
   "mimetype": "text/x-python",
   "name": "python",
   "nbconvert_exporter": "python",
   "pygments_lexer": "ipython3",
   "version": "3.10.4"
  }
 },
 "nbformat": 4,
 "nbformat_minor": 5
}
