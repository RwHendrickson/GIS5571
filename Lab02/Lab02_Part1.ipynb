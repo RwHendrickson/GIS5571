{
 "cells": [
  {
   "cell_type": "markdown",
   "id": "c85a6d11",
   "metadata": {},
   "source": [
    "# Lab02 Part 1: Working LAS Files\n",
    "\n",
    "By Rob Hendrickson"
   ]
  },
  {
   "cell_type": "code",
   "execution_count": 1,
   "id": "1d60d066",
   "metadata": {},
   "outputs": [],
   "source": [
    "# Import Libraries\n",
    "\n",
    "# System\n",
    "\n",
    "import os # For working with Operating System\n",
    "import requests # For accessing websites\n",
    "import zipfile # For extracting from Zipfiles\n",
    "from io import BytesIO # For reading bytes objects\n",
    "\n",
    "# Analysis\n",
    "\n",
    "# import laspy # Working with LAS files\n",
    "import numpy as np # Numerical Python\n",
    "\n",
    "# # Arcpy Stuff\n",
    "\n",
    "# import arcpy # Arcpy\n",
    "\n",
    "# # Set Working Directory (Arcpy)\n",
    "\n",
    "# arcpy.env.workspace = os.getcwd() + 'Arc1_Lab02.gdb'"
   ]
  },
  {
   "cell_type": "markdown",
   "id": "e86007c7",
   "metadata": {},
   "source": [
    "## 1\n",
    "\n",
    "Describe and build an ETL in ArcPro Jupyter Notebooks and arcpy that:\n",
    "\n",
    "a) Downloads .LAS files from MN DNR [1](https://resources.gisdata.mn.gov/pub/data/elevation/lidar/)\n",
    "    \n",
    "b) Converts the .LAS file into both a DEM and a TIN\n",
    "    \n",
    "c) Saves the new DEM and TIN to disk\n",
    "    \n",
    "d) Exports PDFs of the DEM and TIN with correct visualization (see [here](https://pro.arcgis.com/en/pro-app/latest/arcpy/mapping/introduction-to-arcpy-mp.htm))"
   ]
  },
  {
   "cell_type": "code",
   "execution_count": 3,
   "id": "7ba5f770",
   "metadata": {},
   "outputs": [],
   "source": [
    "# Download Data\n",
    "\n",
    "url = 'https://resources.gisdata.mn.gov/pub/data/elevation/lidar/examples/lidar_sample/las/4342-14-05.las'\n",
    "\n",
    "response = requests.request(\"GET\", url) # Get request\n",
    "\n",
    "# Save\n",
    "\n",
    "with open(\"4342-14-05.las\", \"wb\") as file:\n",
    "    file.write(response.content)"
   ]
  },
  {
   "cell_type": "code",
   "execution_count": 7,
   "id": "2d097d26",
   "metadata": {},
   "outputs": [],
   "source": [
    "## Make into workable format using laspy\n",
    "## see: https://medium.com/spatial-data-science/an-easy-way-to-work-and-visualize-lidar-data-in-python-eed0e028996c\n",
    "\n",
    "# las = laspy.read('4342-14-05.las')\n",
    "\n",
    "## Make into numpy 3d point cloud tensor\n",
    "\n",
    "# point_data = np.stack([las.X, las.Y, las.Z], axis=0).transpose((1, 0))\n",
    "\n",
    "## Unique classifications?\n",
    "# classifications = np.unique(np.array(las.classification))"
   ]
  },
  {
   "cell_type": "code",
   "execution_count": null,
   "id": "82fac7eb-e9c7-4da3-822d-803dee81f837",
   "metadata": {},
   "outputs": [],
   "source": [
    "# Load into arcpy...\n",
    "\n",
    "filename = \"4342-14-05.las\""
   ]
  },
  {
   "cell_type": "markdown",
   "id": "46685bb0",
   "metadata": {},
   "source": [
    "## 2\n",
    "\n",
    "Do side-by-side exploratory data analysis with a 2D map of the .las file on one\n",
    "pane and a 3D Scene of the .las file on another pane. This will be very\n",
    "computationally intensive, so use a small .las file. In your writeup, describe the\n",
    "features provided by ArcGIS for working with 2D and 3D visualization of .las files."
   ]
  },
  {
   "cell_type": "code",
   "execution_count": null,
   "id": "cda6f687-d12e-423f-842c-5af0acf5bc9d",
   "metadata": {},
   "outputs": [],
   "source": []
  },
  {
   "cell_type": "markdown",
   "id": "a86ae674",
   "metadata": {},
   "source": [
    "## 3\n",
    "\n",
    "Describe and build an ETL in ArcPro Jupyter Notebooks that:\n",
    "\n",
    "a. Downloads the annual 30-Year Normals .bil files for precipitation from\n",
    "PRISM [2](https://prism.oregonstate.edu/normals/)\n",
    "\n",
    "- See https://prism.oregonstate.edu/documents/PRISM_downloads_web_service.pdf for details\n",
    "- File we want: PRISM_ppt_30yr_normal_4kmM3_annual_bil.zip\n",
    "- Careful here! You cannot download the data more than once per day!!\n",
    "\n",
    "b. Converts the data into a spacetime cube and exports it to disk (see here\n",
    "for example of final conversion step; to get to this point, you will need to\n",
    "go through other transformation steps likely) [3](https://www.esri.com/arcgis-blog/products/arcgis-pro/analytics/explore-your-raster-data-with-space-time-pattern-mining/)\n",
    "\n",
    "c. Export an animation of the timeseries"
   ]
  },
  {
   "cell_type": "code",
   "execution_count": 3,
   "id": "d1e9c2bf",
   "metadata": {
    "tags": []
   },
   "outputs": [],
   "source": [
    "# Download Data\n",
    "\n",
    "downloaded = True # Downloaded?\n",
    "\n",
    "# Make folder for .bil files\n",
    "\n",
    "folder_name = 'PRISM_ppt_30yr_normal_4kmM3_annual_bils_by_month'\n",
    "path = os.path.join(os.getcwd(), folder_name)\n",
    "if folder_name not in os.listdir():\n",
    "    os.mkdir(path)\n",
    "    \n",
    "# Download\n",
    "    \n",
    "if not(downloaded):\n",
    "\n",
    "    for month in range(1,13): # Iterate through months\n",
    "\n",
    "        url = 'http://services.nacse.org/prism/data/public/normals/4km/ppt/' + str(month) # Url for month\n",
    "\n",
    "        response = requests.request(\"GET\", url) # Get request\n",
    "        \n",
    "        # Unload zip into the folder\n",
    "        \n",
    "        if len(response.text) == 201: # Too many requests\n",
    "            print('Failed to extract...')\n",
    "            print(response.text)\n",
    "        else: \n",
    "            zip_folder = zipfile.ZipFile(BytesIO(response.content)) # Read Response\n",
    "            zip_folder.extractall(path=path) # Extract files\n",
    "            zip_folder.close() # Close zip object"
   ]
  },
  {
   "cell_type": "code",
   "execution_count": 13,
   "id": "30fa9f4f",
   "metadata": {},
   "outputs": [],
   "source": [
    "# Add all as Arcpy rasters into a list\n",
    "\n",
    "bils_files = os.listdir(folder_name) # Some of these are metadata, etc.\n",
    "\n",
    "rasts = [] # Initialize raster storage\n",
    "feature_names = [] # Initialize feature_name storage\n",
    "m = 0 # Month Counter\n",
    "\n",
    "for file in bils_files:\n",
    "    if file[-4:] == '.bil': # Only want .bil files\n",
    "        path = os.path.join(folder_name, file)\n",
    "        \n",
    "        rasts += [arcpy.Raster(path)] # Store Arcpy Raster in list\n",
    "        # Arcpy Raster objects: https://pro.arcgis.com/en/pro-app/latest/arcpy/classes/raster-object.htm\n",
    "        \n",
    "        # Get Month String (For ESRI Date Format)\n",
    "    \n",
    "        if m < 9:\n",
    "            m_string = '0' + str(m + 1)\n",
    "        else:\n",
    "            m_string = str(m + 1)\n",
    "        \n",
    "        feature_names += [file.split('.')[0] + '_m' + m_string] # Store feature_name\n",
    "        \n",
    "        m += 1 # Next month...\n",
    "\n"
   ]
  },
  {
   "cell_type": "code",
   "execution_count": 17,
   "id": "cf562dd0",
   "metadata": {},
   "outputs": [
    {
     "name": "stdout",
     "output_type": "stream",
     "text": [
      "01\n",
      "2020-01-01\n",
      "02\n",
      "2020-02-01\n",
      "03\n",
      "2020-03-01\n",
      "04\n",
      "2020-04-01\n",
      "05\n",
      "2020-05-01\n",
      "06\n",
      "2020-06-01\n",
      "07\n",
      "2020-07-01\n",
      "08\n",
      "2020-08-01\n",
      "09\n",
      "2020-09-01\n",
      "10\n",
      "2020-10-01\n",
      "11\n",
      "2020-11-01\n",
      "12\n",
      "2020-12-01\n"
     ]
    }
   ],
   "source": [
    "# Create point clouds...\n",
    "\n",
    "cloud_filenames = [] # Initialize filename storage\n",
    "\n",
    "for m, rast in enumerate(rasts):\n",
    "\n",
    "    # Pt Cloud Filename\n",
    "    \n",
    "    new_name = feature_names[m] + '_pts.shp'\n",
    "    cloud_filenames += [new_name]\n",
    "    \n",
    "    # Create Point Cloud\n",
    "\n",
    "    arcpy.conversion.RasterToPoint(rast, new_name) # Raster to Points\n",
    "\n",
    "    arcpy.management.AddField(new_name, 'Date', 'DATE') # Create month field in pointcloud\n",
    "    \n",
    "    m_string = feature_names[m][-2:]\n",
    "    \n",
    "    date = '2020-' + m_string + '-01'\n",
    "    \n",
    "    arcpy.management.CalculateField(new_name, 'Date', date) # Add month value"
   ]
  },
  {
   "cell_type": "code",
   "execution_count": 22,
   "id": "c4a9a2e9",
   "metadata": {},
   "outputs": [
    {
     "name": "stdout",
     "output_type": "stream",
     "text": [
      "PRISM_ppt_30yr_normal_4kmM3_allmonths_pts.shp\n",
      "hey\n",
      "hey\n",
      "hey\n",
      "hey\n",
      "hey\n",
      "hey\n",
      "hey\n",
      "hey\n",
      "hey\n",
      "hey\n",
      "hey\n"
     ]
    }
   ],
   "source": [
    "# Merge all point clouds (Think about clearing scratch gdb)\n",
    "\n",
    "# initialize feature class\n",
    "\n",
    "all_clouds_filename = feature_names[0][:-10] + 'allmonths_pts.shp' # Name\n",
    "\n",
    "print(all_clouds_filename)\n",
    "\n",
    "# load(cloud_filenames[0], set_name = all_clouds_filename) # Load first pt cloud\n",
    "\n",
    "for cloud_filename in cloud_filenames[1:]: # Iterate through rest of clouds\n",
    "    \n",
    "    # Load into arcpy\n",
    "    # Merge with all_clouds_filename"
   ]
  },
  {
   "cell_type": "code",
   "execution_count": 26,
   "id": "2beb8e41",
   "metadata": {},
   "outputs": [
    {
     "name": "stdout",
     "output_type": "stream",
     "text": [
      "PRISM_ppt_30yr_normal_4kmM3_allmonths_spacetimecube\n"
     ]
    }
   ],
   "source": [
    "# Convert to SpacetimeCube\n",
    "\n",
    "spacetime_cube_name = all_clouds_filename[0:-7] + 'spacetimecube'\n",
    "\n",
    "\n",
    "# arcpy.stpm.CreateSpaceTimeCube(in_features=all_clouds_filename,\n",
    "#                                output_cube=spacetime_cube_name,\n",
    "#                                time_field='Date',\n",
    "#                                # summary_field = SOMETHING,\n",
    "#                                # zones = SOMETHING\n",
    "#                               )\n"
   ]
  },
  {
   "cell_type": "code",
   "execution_count": null,
   "id": "27ca622c-eb3c-4dc8-88b1-bdcfe98e7ae4",
   "metadata": {},
   "outputs": [],
   "source": []
  }
 ],
 "metadata": {
  "kernelspec": {
   "display_name": "Python 3 (ipykernel)",
   "language": "python",
   "name": "python3"
  },
  "language_info": {
   "codemirror_mode": {
    "name": "ipython",
    "version": 3
   },
   "file_extension": ".py",
   "mimetype": "text/x-python",
   "name": "python",
   "nbconvert_exporter": "python",
   "pygments_lexer": "ipython3",
   "version": "3.10.4"
  }
 },
 "nbformat": 4,
 "nbformat_minor": 5
}
