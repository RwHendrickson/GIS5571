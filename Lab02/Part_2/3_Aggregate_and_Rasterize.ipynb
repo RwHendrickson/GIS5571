{
 "cells": [
  {
   "cell_type": "code",
   "execution_count": 1,
   "id": "38f0c7c6-3b66-4c5a-90be-a8f1f87af037",
   "metadata": {},
   "outputs": [],
   "source": [
    "# Import libraries\n",
    "\n",
    "# System\n",
    "\n",
    "import os\n",
    "\n",
    "# Analysis\n",
    "\n",
    "import numpy as np # Numerical Analysis\n",
    "import laspy\n",
    "import geopandas as gpd\n",
    "import rasterio # Rasters\n",
    "from rasterio.transform import Affine # Transformations\n",
    "from rasterio import features\n",
    "\n",
    "# Visualization\n",
    "\n",
    "import matplotlib.pyplot as plt\n",
    "import contextily as ctx"
   ]
  },
  {
   "cell_type": "code",
   "execution_count": 2,
   "id": "f0100425-cf52-4591-97cd-fc2da2ee9ea0",
   "metadata": {},
   "outputs": [],
   "source": [
    "# Definitions\n",
    "\n",
    "def Save_Geotiff_to_template(array, template_path, save_path):\n",
    "    '''Saves a numpy array into a geotiff with the same CRS as the template.\n",
    "    '''            \n",
    "\n",
    "    # Get metadata from template\n",
    "    rst = rasterio.open(template_path) # Open template\n",
    "    meta = rst.meta.copy() # Copy template metadata\n",
    "    # meta.update(compress='lzw') # Good for integers/categorical rasters\n",
    "    rst.close()\n",
    "\n",
    "    with rasterio.open(save_path, 'w+', **meta) as out: # Burn features into raster\n",
    "        out.write_band(1, array)\n",
    "    "
   ]
  },
  {
   "cell_type": "code",
   "execution_count": 3,
   "id": "7dc8ded1-e0fd-436a-a807-bc061c344228",
   "metadata": {},
   "outputs": [],
   "source": [
    "# Load plotting data\n",
    "\n",
    "raster = np.load('template.npy')\n",
    "\n",
    "trip = gpd.read_file('DoryTrip.geojson').to_crs('EPSG:26915')"
   ]
  },
  {
   "cell_type": "code",
   "execution_count": 4,
   "id": "10fe978a-c7d0-478c-8cae-223d6ff217a3",
   "metadata": {},
   "outputs": [],
   "source": [
    "# Get a list of tile_names\n",
    "\n",
    "x_range = list(range(59,64))\n",
    "y_range = list(range(28, 32))\n",
    "\n",
    "tile_names = []\n",
    "\n",
    "for x in x_range:\n",
    "    for y in y_range:\n",
    "        \n",
    "        tile_name = '4342-' + str(y) + '-' + str(x) + '.las'\n",
    "        \n",
    "        tile_names += [tile_name]"
   ]
  },
  {
   "cell_type": "code",
   "execution_count": 5,
   "id": "4029dfab-27e3-47c4-aa47-70b0a809c5e8",
   "metadata": {},
   "outputs": [],
   "source": [
    "# Get metadata from template\n",
    "rst = rasterio.open('template.tif') # Open template\n",
    "meta = rst.meta.copy() # Copy template metadata\n",
    "# meta.update(compress='lzw') # Good for integers/categorical rasters\n",
    "rst.close()"
   ]
  },
  {
   "cell_type": "markdown",
   "id": "635865d5-aa61-4c5c-8070-3aa9026beb80",
   "metadata": {
    "tags": []
   },
   "source": [
    "# Get Elevation (Aggregated in Batches)"
   ]
  },
  {
   "cell_type": "code",
   "execution_count": null,
   "id": "72bf24f3-4e1e-4e80-9a88-d8f00397c5b1",
   "metadata": {
    "tags": []
   },
   "outputs": [],
   "source": [
    "# aggregate points into raster\n",
    "# Takes about 15 minutes\n",
    "\n",
    "# This version had overlap between the tiles...\n",
    "\n",
    "for i, tile_name in enumerate(tile_names):\n",
    "    \n",
    "    path = os.path.join('1_raw_data', 'LasTiles', tile_name)\n",
    "\n",
    "    las = laspy.read(path)\n",
    "    \n",
    "    las_geoms = gpd.points_from_xy(las.X/100, las.Y/100) # Spatialize\n",
    "    Zs = las.Z # Elevations\n",
    "    \n",
    "    sort_indices = np.argsort(Zs) # Sort ascending \n",
    "    \n",
    "    out_fn = os.path.join('tile_elevations', tile_name[:-4] + '_elevation.tif') # Savepath\n",
    "\n",
    "    with rasterio.open(out_fn, 'w+', **meta) as out: # Burn features into raster\n",
    "        out_arr = out.read(1)\n",
    "        \n",
    "        \n",
    "        # this is where we create a generator of geom, value pairs to use in rasterizing\n",
    "        shapes = ((geom,value) for geom, value in zip(las_geoms[sort_indices], Zs[sort_indices]))\n",
    "\n",
    "        burned = features.rasterize(shapes=shapes, \n",
    "                                    fill=0, \n",
    "                                    out=out_arr, \n",
    "                                    transform=out.transform)#,\n",
    "                                    # merge_alg=rasterio.enums.MergeAlg.add) # We're not adding them, we're replacing\n",
    "                                    # This is why we sorted earlier, consistently using the highest value\n",
    "                                                                                  \n",
    "        out.write_band(1, burned)"
   ]
  },
  {
   "cell_type": "code",
   "execution_count": null,
   "id": "0a55930e-cac1-4eca-bfbf-04b2253cc76c",
   "metadata": {},
   "outputs": [],
   "source": [
    "# Load those rasters!\n",
    "\n",
    "elevs = np.empty([len(tile_names)], dtype = object) # storage for each tile\n",
    "\n",
    "for i, tile_name in enumerate(tile_names):\n",
    "    \n",
    "    out_fn = os.path.join('tile_elevations', tile_name[:-4] + '_elevation.tif')\n",
    "    \n",
    "    rast = rasterio.open(out_fn) # Open\n",
    "\n",
    "    elevs[i] = rast.read(1) # Save band\n",
    "\n",
    "    rast.close() # Close"
   ]
  },
  {
   "cell_type": "code",
   "execution_count": null,
   "id": "594d0e77-2256-4856-af59-b42ff042a5bf",
   "metadata": {},
   "outputs": [],
   "source": [
    "# Add them up to get elevation raster\n",
    "\n",
    "full_elev = np.zeros(elevs[0].shape)\n",
    "\n",
    "for elev in elevs:\n",
    "    \n",
    "    # Do any cells overlap?\n",
    "    \n",
    "    filled = full_elev > 1\n",
    "    to_fill = elev > 1\n",
    "    \n",
    "    \n",
    "    overlaps = np.logical_and(filled, to_fill)\n",
    "\n",
    "    # Take average if they overlap\n",
    "    \n",
    "    full_elev[overlaps] = (full_elev[overlaps] + elev[overlaps])/2\n",
    "    \n",
    "    # Otherwise\n",
    "    \n",
    "    full_elev[np.invert(overlaps)] += elev[np.invert(overlaps)]"
   ]
  },
  {
   "cell_type": "code",
   "execution_count": null,
   "id": "9ff01151-8302-46d8-ac50-8cfe19ce19f3",
   "metadata": {
    "tags": []
   },
   "outputs": [],
   "source": [
    "# PLOT!\n",
    "\n",
    "f, ax = plt.subplots(1, figsize=(16,16)) # Initialize frame\n",
    "\n",
    "\n",
    "art = ax.pcolormesh(raster[0], raster[1], full_elev.T, shading='auto', cmap = 'viridis', alpha = 0.4) # Plot interpolation\n",
    "\n",
    "f.colorbar(art, ax = ax) # Add colorbar\n",
    "title = '''Elevation'''\n",
    "ax.set_title(title) # Add title\n",
    "ax.set_axis_off()\n",
    "\n",
    "trip.plot(column = 'type', cmap = 'rainbow', legend = True, marker = '*', ax = ax)\n",
    "\n",
    "# Add basemap\n",
    "\n",
    "ctx.add_basemap(ax = ax, \n",
    "                       crs = 'EPSG:26915', \n",
    "                       source=ctx.providers.CartoDB.DarkMatter\n",
    "                      ) \n",
    "\n",
    "plt.show()"
   ]
  },
  {
   "cell_type": "code",
   "execution_count": null,
   "id": "44a59f4a-d20c-4503-986b-078dc96155d6",
   "metadata": {},
   "outputs": [],
   "source": [
    "# Cool that worked\n",
    "\n",
    "Save_Geotiff_to_template(full_elev, 'template.tif', os.path.join('3_processed_data', 'full_elevation.tif')"
   ]
  },
  {
   "cell_type": "markdown",
   "id": "dc4df1ba-c4e8-46b2-902f-897ee7020074",
   "metadata": {},
   "source": [
    "# Water and Bridges (New)"
   ]
  },
  {
   "cell_type": "code",
   "execution_count": 6,
   "id": "c669424e-49a8-4158-8560-7cf0d6814e72",
   "metadata": {},
   "outputs": [
    {
     "name": "stderr",
     "output_type": "stream",
     "text": [
      "/tmp/ipykernel_14922/4168304473.py:1: FutureWarning: Currently, index_parts defaults to True, but in the future, it will default to False to be consistent with Pandas. Use `index_parts=True` to keep the current behavior and True/False to silence the warning.\n",
      "  water_no_bridge = gpd.read_file(os.path.join('1_raw_data', 'water_no_bridge.geojson')).explode().reset_index()\n"
     ]
    }
   ],
   "source": [
    "water_no_bridge = gpd.read_file(os.path.join('1_raw_data', 'water_no_bridge.geojson')).explode().reset_index()"
   ]
  },
  {
   "cell_type": "code",
   "execution_count": 7,
   "id": "64f8560c-bece-433f-abea-a11fadfed7f0",
   "metadata": {},
   "outputs": [],
   "source": [
    "# Burn\n",
    "\n",
    "# Get filenames\n",
    "out_fn = 'water_no_bridge.tif'\n",
    "\n",
    "with rasterio.open(out_fn, 'w+', **meta) as out: # Burn features into template raster\n",
    "    out_arr = out.read(1)\n",
    "    \n",
    "    is_water = np.ones(len(water_no_bridge))\n",
    "    \n",
    "    sort_indices = np.argsort(is_water) # Sort ascending \n",
    "\n",
    "    # this is where we create a generator of geom, value pairs to use in rasterizing\n",
    "    shapes = ((geom,value) for geom, value in zip(water_no_bridge.geometry[sort_indices], is_water[sort_indices]))\n",
    "\n",
    "    burned = features.rasterize(shapes=shapes, \n",
    "                                fill=0, \n",
    "                                out=out_arr, \n",
    "                                transform=out.transform,\n",
    "                               all_touched = True) # Close off diagonal water jumps\n",
    "                                # merge_alg=rasterio.enums.MergeAlg.add) \n",
    "    out.write_band(1, burned)"
   ]
  },
  {
   "cell_type": "code",
   "execution_count": null,
   "id": "e2811109-04fe-433f-a6e2-12e62a9c6697",
   "metadata": {},
   "outputs": [],
   "source": [
    "# This was visually verified to have worked in QGIS."
   ]
  },
  {
   "cell_type": "markdown",
   "id": "ace507d9-88b1-4904-b450-4eed3f18c2c4",
   "metadata": {},
   "source": [
    "# Rasterize Fields"
   ]
  },
  {
   "cell_type": "code",
   "execution_count": null,
   "id": "f9c9f6f3-867e-4bb5-846a-413ee3c31fec",
   "metadata": {},
   "outputs": [],
   "source": [
    "fields = gpd.read_file('1_raw_data', 'fields.geojson')"
   ]
  },
  {
   "cell_type": "code",
   "execution_count": null,
   "id": "cd9daf95-510e-4c4c-a6e3-0369ac8bab59",
   "metadata": {},
   "outputs": [],
   "source": [
    "# Find the nearest cells to the bridges\n",
    "\n",
    "# Get filenames\n",
    "out_fn = 'rasterized_fields.tif'\n",
    "\n",
    "with rasterio.open(out_fn, 'w+', **meta) as out: # Burn features into template raster\n",
    "    out_arr = out.read(1)\n",
    "    \n",
    "    is_field = np.ones(len(fields))\n",
    "\n",
    "    # this is where we create a generator of geom, value pairs to use in rasterizing\n",
    "    shapes = ((geom,value) for geom, value in zip(fields.geometry, is_field))\n",
    "\n",
    "    burned = features.rasterize(shapes=shapes, \n",
    "                                fill=0, \n",
    "                                out=out_arr, \n",
    "                                transform=out.transform)\n",
    "                                # merge_alg=rasterio.enums.MergeAlg.add) \n",
    "    out.write_band(1, burned)"
   ]
  },
  {
   "cell_type": "code",
   "execution_count": null,
   "id": "c846d239-ecfe-4ecb-b45b-014220aff65b",
   "metadata": {},
   "outputs": [],
   "source": [
    "# Load that raster\n",
    "\n",
    "rast = rasterio.open(out_fn) # Open\n",
    "\n",
    "field_rast = rast.read(1) # Save band\n",
    "\n",
    "rast.close() # Close"
   ]
  },
  {
   "cell_type": "code",
   "execution_count": null,
   "id": "208e3ab1-b9e5-497e-af19-0410caecc8ae",
   "metadata": {},
   "outputs": [],
   "source": [
    "# PLOT!\n",
    "\n",
    "f, ax = plt.subplots(1, figsize=(16,16)) # Initialize frame\n",
    "\n",
    "\n",
    "art = ax.pcolormesh(raster[0], raster[1], field_rast.T, shading='auto', cmap = 'viridis', alpha = 0.4) # Plot interpolation\n",
    "\n",
    "f.colorbar(art, ax = ax) # Add colorbar\n",
    "title = '''Fields Raster'''\n",
    "ax.set_title(title) # Add title\n",
    "ax.set_axis_off()\n",
    "\n",
    "trip.plot(column = 'type', cmap = 'rainbow', legend = True, marker = '*', ax = ax)\n",
    "\n",
    "# Add basemap\n",
    "\n",
    "ctx.add_basemap(ax = ax, \n",
    "                       crs = 'EPSG:26915', \n",
    "                       source=ctx.providers.CartoDB.Voyager\n",
    "                      ) \n",
    "\n",
    "plt.show()"
   ]
  },
  {
   "cell_type": "markdown",
   "id": "30505d84-8bc9-41f8-a901-8e69392ad32f",
   "metadata": {
    "jp-MarkdownHeadingCollapsed": true,
    "tags": []
   },
   "source": [
    "# Water and Bridges (Old)"
   ]
  },
  {
   "cell_type": "code",
   "execution_count": null,
   "id": "ba710e1d-3af4-43c0-8ed5-3e791ea6cb27",
   "metadata": {},
   "outputs": [],
   "source": [
    "# # Now to get water & bridges\n",
    "\n",
    "# # Classifications\n",
    "\n",
    "\n",
    "# #     2 Ground\n",
    "# #     5 Vegetation\n",
    "# #     6 – Building\n",
    "# #     8 – Model Keypoint (points required to maintain surface integrity).\n",
    "# #     9 – Water\n",
    "# #     10 – Breakline Proximity. Points within 3 meters of a breakline\n",
    "# #     12 – Overlap Points\n",
    "# #     14 – Bridge Decks <- There's no bridges!!!\n",
    "\n",
    "# # aggregate points into raster\n",
    "\n",
    "# for i, tile_name in enumerate(tile_names):\n",
    "    \n",
    "#     path = os.path.join('3_processed_data','LasTiles', tile_name)\n",
    "\n",
    "#     las = laspy.read(path)\n",
    "    \n",
    "#     las_geoms = gpd.points_from_xy(las.X/100, las.Y/100)\n",
    "    \n",
    "#     # Is water or bridge?\n",
    "#     classifications = np.array(las.classification)\n",
    "    \n",
    "#     # print(np.unique(classifications))\n",
    "\n",
    "#     water_indices = np.argwhere(classifications==9)\n",
    "#     bridge_indices = np.argwhere(classifications==14)\n",
    "    \n",
    "#     water_and_bridge_indices = np.append(bridge_indices, water_indices)\n",
    "    \n",
    "#     # Create value to burn, bridge = 1, water = -1\n",
    "    \n",
    "#     water_bool = -np.ones(len(water_indices))\n",
    "#     bridge_bool = np.ones(len(bridge_indices))\n",
    "    \n",
    "#     water_and_bridge_bool = np.append(bridge_bool, water_bool)\n",
    "    \n",
    "#     # Rasterize\n",
    "    \n",
    "#     if len(water_and_bridge_indices) > 0: # Sometimes there's no water/bridges\n",
    "    \n",
    "#         out_fn = os.path.join('tile_water_and_bridges', tile_name[:-4] + '_water_and_bridges.tif') #os.path.join('Part_2_LasTiles', tile_name)\n",
    "\n",
    "#         with rasterio.open(out_fn, 'w+', **meta) as out: # Burn features into raster\n",
    "#             out_arr = out.read(1)\n",
    "\n",
    "\n",
    "#             # this is where we create a generator of geom, value pairs to use in rasterizing\n",
    "#             shapes = ((geom,value) for geom, value in zip(las_geoms[water_and_bridge_indices], water_and_bridge_bool))\n",
    "\n",
    "#             burned = features.rasterize(shapes=shapes, \n",
    "#                                         fill=0, \n",
    "#                                         out=out_arr, \n",
    "#                                         transform=out.transform)#,\n",
    "#                                         # merge_alg=rasterio.enums.MergeAlg.add) # We're not adding them, we're replacing\n",
    "#                                         # This is why we sorted earlier, consistently using the bridge over water\n",
    "\n",
    "#             out.write_band(1, burned)  "
   ]
  },
  {
   "cell_type": "code",
   "execution_count": null,
   "id": "c2867a4a-59b4-4654-89c8-e903f6aa777e",
   "metadata": {},
   "outputs": [],
   "source": [
    "# Wow, there's no bridges... Hmmmm"
   ]
  },
  {
   "cell_type": "code",
   "execution_count": null,
   "id": "2918a557-fc40-4730-bada-b6036800ffde",
   "metadata": {},
   "outputs": [],
   "source": [
    "# # Load those rasters!\n",
    "\n",
    "# waters = np.empty([len(tile_names)], dtype = object) # storage for each tile\n",
    "\n",
    "# for i, tile_name in enumerate(tile_names):\n",
    "    \n",
    "#     out_fn = os.path.join('tile_water_and_bridges', tile_name[:-4] + '_water_and_bridges.tif')\n",
    "    \n",
    "#     if os.path.exists(out_fn):\n",
    "    \n",
    "#         rast = rasterio.open(out_fn) # Open\n",
    "\n",
    "#         waters[i] = rast.read(1) # Save band\n",
    "\n",
    "#         rast.close() # Close\n",
    "#     else:\n",
    "#         waters[i] = np.zeros(full_elev.shape)"
   ]
  },
  {
   "cell_type": "code",
   "execution_count": null,
   "id": "089c80e9-6dd6-4f39-9862-5422fc4aeefa",
   "metadata": {},
   "outputs": [],
   "source": [
    "# # Merge\n",
    "\n",
    "# full_water = np.zeros(full_elev.shape)\n",
    "\n",
    "\n",
    "# for water in waters:\n",
    "    \n",
    "#     # Do any cells overlap?\n",
    "    \n",
    "#     filled = full_water != 0\n",
    "#     to_fill = water != 0\n",
    "    \n",
    "    \n",
    "#     overlaps = np.logical_and(filled, to_fill)\n",
    "\n",
    "#     # Take average if they overlap\n",
    "    \n",
    "#     full_water[overlaps] = (full_water[overlaps] + water[overlaps])/2\n",
    "    \n",
    "#     # Otherwise\n",
    "    \n",
    "#     full_water[np.invert(overlaps)] += water[np.invert(overlaps)]"
   ]
  },
  {
   "cell_type": "code",
   "execution_count": null,
   "id": "8bbab4d6-d65a-4dae-85e0-b9e9af5abbbb",
   "metadata": {},
   "outputs": [],
   "source": [
    "# # PLOT!\n",
    "\n",
    "# f, ax = plt.subplots(1, figsize=(16,16)) # Initialize frame\n",
    "\n",
    "\n",
    "# art = ax.pcolormesh(raster[0], raster[1], full_water.T, shading='auto', cmap = 'viridis', alpha = 0.4) # Plot interpolation\n",
    "\n",
    "# f.colorbar(art, ax = ax) # Add colorbar\n",
    "# title = '''Bridges Raster'''\n",
    "# ax.set_title(title) # Add title\n",
    "# ax.set_axis_off()\n",
    "\n",
    "# trip.plot(column = 'type', cmap = 'rainbow', legend = True, marker = '*', ax = ax)\n",
    "\n",
    "# # Add basemap\n",
    "\n",
    "# ctx.add_basemap(ax = ax, \n",
    "#                        crs = 'EPSG:26915', \n",
    "#                        source=ctx.providers.CartoDB.Voyager\n",
    "#                       ) \n",
    "\n",
    "# plt.show()"
   ]
  },
  {
   "cell_type": "code",
   "execution_count": null,
   "id": "c6d63a48-d77f-46ca-b7d0-5d72200c8c11",
   "metadata": {},
   "outputs": [],
   "source": [
    "# Looks okay\n",
    "\n",
    "Save_Geotiff_to_template(full_water, 'template.tif', os.path.join('3_processed_data', 'full_water.tif')"
   ]
  },
  {
   "cell_type": "markdown",
   "id": "585e625d-8283-4db3-8ff1-6c9bdc13930e",
   "metadata": {
    "tags": []
   },
   "source": [
    "## Getting Bridges...\n",
    "\n",
    "Went to geojson.io and visually found them. Marked as points... \n",
    "\n",
    "*This didn't work... Probably could buffer to make the rasterization work better*"
   ]
  },
  {
   "cell_type": "code",
   "execution_count": null,
   "id": "85ef16d4-b151-4a6f-82ae-6e8b2d3b86f6",
   "metadata": {},
   "outputs": [],
   "source": [
    "# bridges = gpd.read_file(os.path.join('1_raw_data','bridges.geojson').to_crs('EPSG:26915')"
   ]
  },
  {
   "cell_type": "code",
   "execution_count": null,
   "id": "abc12b5a-b806-4c59-8356-458cf1bcbba3",
   "metadata": {},
   "outputs": [],
   "source": [
    "# # Find the nearest cells to the bridges\n",
    "\n",
    "# # Get filenames\n",
    "# out_fn = os.path.join('3_processed_data','rasterized_bridges.tif')\n",
    "\n",
    "# with rasterio.open(out_fn, 'w+', **meta) as out: # Burn features into template raster\n",
    "#     out_arr = out.read(1)\n",
    "    \n",
    "#     is_bridge = np.ones(len(bridges))\n",
    "\n",
    "#     # this is where we create a generator of geom, value pairs to use in rasterizing\n",
    "#     shapes = ((geom,value) for geom, value in zip(bridges.geometry, is_bridge))\n",
    "\n",
    "#     burned = features.rasterize(shapes=shapes, \n",
    "#                                 fill=0, \n",
    "#                                 out=out_arr, \n",
    "#                                 transform=out.transform)\n",
    "#                                 # merge_alg=rasterio.enums.MergeAlg.add) \n",
    "#     out.write_band(1, burned)"
   ]
  },
  {
   "cell_type": "code",
   "execution_count": null,
   "id": "bb9bda70-c8c7-40cb-ab6b-35f9ad5d27f0",
   "metadata": {},
   "outputs": [],
   "source": [
    "# # Load that raster\n",
    "\n",
    "# rast = rasterio.open(out_fn) # Open\n",
    "\n",
    "# bridges_rast = rast.read(1) # Save band\n",
    "\n",
    "# rast.close() # Close"
   ]
  },
  {
   "cell_type": "code",
   "execution_count": null,
   "id": "8412d492-c5e9-46dc-8241-3f7764c9e6d4",
   "metadata": {},
   "outputs": [],
   "source": [
    "# # PLOT!\n",
    "\n",
    "# f, ax = plt.subplots(1, figsize=(16,16)) # Initialize frame\n",
    "\n",
    "\n",
    "# art = ax.pcolormesh(raster[0], raster[1], bridges_rast.T, shading='auto', cmap = 'viridis', alpha = 0.4) # Plot interpolation\n",
    "\n",
    "# f.colorbar(art, ax = ax) # Add colorbar\n",
    "# title = '''Bridges Raster'''\n",
    "# ax.set_title(title) # Add title\n",
    "# ax.set_axis_off()\n",
    "\n",
    "# trip.plot(column = 'type', cmap = 'rainbow', legend = True, marker = '*', ax = ax)\n",
    "\n",
    "# # Add basemap\n",
    "\n",
    "# ctx.add_basemap(ax = ax, \n",
    "#                        crs = 'EPSG:26915', \n",
    "#                        source=ctx.providers.CartoDB.Voyager\n",
    "#                       ) \n",
    "\n",
    "# plt.show()"
   ]
  },
  {
   "cell_type": "markdown",
   "id": "cb053f05-bd7a-4dba-b2f3-4fec38614d1e",
   "metadata": {},
   "source": [
    "## Now Combine with water"
   ]
  },
  {
   "cell_type": "code",
   "execution_count": null,
   "id": "ff930611-131f-4ffa-aee0-27aacb0a2885",
   "metadata": {},
   "outputs": [],
   "source": [
    "# # Now combine with water\n",
    "\n",
    "# water_and_bridges = full_water + bridges_rast"
   ]
  },
  {
   "cell_type": "code",
   "execution_count": null,
   "id": "cf16a3b4-59ce-4084-baac-cdb70e23fa19",
   "metadata": {},
   "outputs": [],
   "source": [
    "# # PLOT!\n",
    "\n",
    "# f, ax = plt.subplots(1, figsize=(16,16)) # Initialize frame\n",
    "\n",
    "\n",
    "# art = ax.pcolormesh(raster[0], raster[1], water_and_bridges.T, shading='auto', cmap = 'viridis', alpha = 0.4) # Plot interpolation\n",
    "\n",
    "# f.colorbar(art, ax = ax) # Add colorbar\n",
    "# title = '''Bridges Raster'''\n",
    "# ax.set_title(title) # Add title\n",
    "# ax.set_axis_off()\n",
    "\n",
    "# trip.plot(column = 'type', cmap = 'rainbow', legend = True, marker = '*', ax = ax)\n",
    "\n",
    "# # Add basemap\n",
    "\n",
    "# ctx.add_basemap(ax = ax, \n",
    "#                        crs = 'EPSG:26915', \n",
    "#                        source=ctx.providers.CartoDB.Voyager\n",
    "#                       ) \n",
    "\n",
    "# plt.show()"
   ]
  },
  {
   "cell_type": "markdown",
   "id": "4303041a-e9ff-4be4-ac3a-de4d472658bd",
   "metadata": {
    "jp-MarkdownHeadingCollapsed": true,
    "tags": []
   },
   "source": [
    "## If ArcPy is Needed"
   ]
  },
  {
   "cell_type": "code",
   "execution_count": null,
   "id": "2981586b-1276-4abb-abbb-6ba05338b6e6",
   "metadata": {},
   "outputs": [],
   "source": [
    "# # Convert Las to Raster?\n",
    "\n",
    "# tile_indices = [x[1] for x in tile_info]\n",
    "\n",
    "# rasterized = True\n",
    "\n",
    "# if not(rasterized):\n",
    "\n",
    "#     for tile_index in tile_indices:\n",
    "\n",
    "#         las_name = tile_index + '.las'\n",
    "#         path = os.path.join('Part_2_LasTiles', las_name)\n",
    "\n",
    "#         # savepath = \n",
    "\n",
    "\n",
    "#         arcpy.conversion.LasDatasetToRaster(path, r\"c:\\users\\hendr862\\desktop\\arc1\\arc1_lab02_part2\\arc1_lab02_part2.gdb\\c43583_lasda\",\n",
    "#                                         \"ELEVATION\", \"BINNING AVERAGE LINEAR\", \"FLOAT\", \"CELLSIZE\", 1, 1)"
   ]
  }
 ],
 "metadata": {
  "kernelspec": {
   "display_name": "Python 3 (ipykernel)",
   "language": "python",
   "name": "python3"
  },
  "language_info": {
   "codemirror_mode": {
    "name": "ipython",
    "version": 3
   },
   "file_extension": ".py",
   "mimetype": "text/x-python",
   "name": "python",
   "nbconvert_exporter": "python",
   "pygments_lexer": "ipython3",
   "version": "3.10.8"
  }
 },
 "nbformat": 4,
 "nbformat_minor": 5
}
