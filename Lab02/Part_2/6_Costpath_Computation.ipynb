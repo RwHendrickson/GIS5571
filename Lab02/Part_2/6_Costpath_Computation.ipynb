{
 "cells": [
  {
   "cell_type": "code",
   "execution_count": 1,
   "id": "e761806f",
   "metadata": {},
   "outputs": [],
   "source": [
    "# Import Libraries\n",
    "\n",
    "# System\n",
    "\n",
    "import os\n",
    "\n",
    "# Analysis\n",
    "\n",
    "import numpy as np # Numerical Analysis\n",
    "import arcpy \n",
    "\n",
    "cwd = r\"C:\\\\Users\\\\HAL\\\\Desktop\\\\arc1_lab3_part1\\\\\"\n",
    "os.chdir(cwd)\n",
    "arcpy.env.workspace = os.path.join(cwd, \"Arc1_Lab3_Part1.gdb\")"
   ]
  },
  {
   "cell_type": "code",
   "execution_count": 2,
   "id": "9354c916",
   "metadata": {},
   "outputs": [
    {
     "data": {
      "text/html": [
       "<div class='gpresult'><h2>Messages</h2><div id='messages' data-messages='[\"Start Time: Saturday, November 26, 2022 12:15:53 AM\",\"Succeeded at Saturday, November 26, 2022 12:15:54 AM (Elapsed Time: 0.78 seconds)\"]' data-show='true'><div id = 'default' /></div></div>"
      ],
      "text/plain": [
       "<Result 'C:\\\\\\\\Users\\\\\\\\HAL\\\\\\\\Desktop\\\\\\\\arc1_lab3_part1\\\\\\\\Arc1_Lab3_Part1.gdb\\\\DoryTrip_start'>"
      ]
     },
     "execution_count": 2,
     "metadata": {},
     "output_type": "execute_result"
    }
   ],
   "source": [
    "# Get Start and end coordinates\n",
    "\n",
    "# Load Dory's Trip\n",
    "\n",
    "arcpy.conversion.JSONToFeatures(\"DoryTrip.geojson\",\n",
    "                                \"DoryTrip\",\n",
    "                                \"POINT\")\n",
    "\n",
    "# Select end and start\n",
    "\n",
    "arcpy.analysis.Select(\"DoryTrip\",\n",
    "                      \"DoryTrip_end\",\n",
    "                      \"type = 'end'\")\n",
    "\n",
    "arcpy.analysis.Select(\"DoryTrip\",\n",
    "                      \"DoryTrip_start\",\n",
    "                      \"type = 'start'\")"
   ]
  },
  {
   "cell_type": "code",
   "execution_count": 3,
   "id": "0580559d",
   "metadata": {},
   "outputs": [],
   "source": [
    "# Get all tifnames\n",
    "\n",
    "file_names = np.array(os.listdir('5_weights_tests'))\n"
   ]
  },
  {
   "cell_type": "code",
   "execution_count": 4,
   "id": "ec66320f",
   "metadata": {},
   "outputs": [],
   "source": [
    "# Get least cost paths\n",
    "\n",
    "paths = []\n",
    "\n",
    "for i, filename in enumerate(file_names):\n",
    "    \n",
    "    if filename[0] != '0': # We don't want any of the costpaths without slope (doesn't work)\n",
    "    \n",
    "        weightnames = filename[:-17] # Weights name (layer name without '-Cost_Surface.tif')\n",
    "\n",
    "        # Import cost surface\n",
    "\n",
    "        cs_path = os.path.join(os.getcwd(), '5_weights_tests', filename)\n",
    "        in_raster = arcpy.Raster(cs_path)\n",
    "\n",
    "        # Get Path Distance and backlink rasters\n",
    "        out_distance_raster = arcpy.sa.CostDistance(\"DoryTrip_start\", in_cost_raster = in_raster, \n",
    "                                                    out_backlink_raster = \"PathdistBacklink\");\n",
    "        out_distance_raster.save(\"Pathdist\")\n",
    "        \n",
    "        # Get costpath\n",
    "        \n",
    "        costpath_savename = os.path.join(os.getcwd(), '6_costpaths', weightnames + '_CostPath.tif')\n",
    "\n",
    "        least_cost_path = arcpy.sa.CostPath(\"DoryTrip_end\",\n",
    "                                       'Pathdist', \n",
    "                                       \"PathdistBacklink\", \n",
    "                                       \"BEST_SINGLE\");least_cost_path.save(costpath_savename)\n",
    "        \n",
    "        # Make sure these aren't used again by accident\n",
    "        arcpy.Delete_management(\"Pathdist\")\n",
    "        arcpy.Delete_management(\"PathdistBacklink\")"
   ]
  },
  {
   "cell_type": "code",
   "execution_count": null,
   "id": "82fa68e2",
   "metadata": {},
   "outputs": [],
   "source": []
  }
 ],
 "metadata": {
  "kernelspec": {
   "display_name": "Python 3 (ipykernel)",
   "language": "python",
   "name": "python3"
  },
  "language_info": {
   "codemirror_mode": {
    "name": "ipython",
    "version": 3
   },
   "file_extension": ".py",
   "mimetype": "text/x-python",
   "name": "python",
   "nbconvert_exporter": "python",
   "pygments_lexer": "ipython3",
   "version": "3.10.8"
  }
 },
 "nbformat": 4,
 "nbformat_minor": 5
}
