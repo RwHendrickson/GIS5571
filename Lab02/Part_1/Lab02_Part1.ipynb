{
 "cells": [
  {
   "cell_type": "markdown",
   "id": "2043ddf7",
   "metadata": {},
   "source": [
    "# Lab02 Part 1: Working LAS Files\n",
    "\n",
    "By Rob Hendrickson"
   ]
  },
  {
   "cell_type": "code",
   "execution_count": 1,
   "id": "c1e68b4f",
   "metadata": {},
   "outputs": [],
   "source": [
    "# Import Libraries\n",
    "\n",
    "# System\n",
    "\n",
    "import os # For working with Operating System\n",
    "import requests # For accessing websites\n",
    "import zipfile # For extracting from Zipfiles\n",
    "from io import BytesIO # For reading bytes objects\n",
    "\n",
    "# Analysis\n",
    "\n",
    "# import laspy # Working with LAS files\n",
    "import numpy as np # Numerical Python\n",
    "\n",
    "# Arcpy Stuff\n",
    "\n",
    "import arcpy # Arcpy\n",
    "\n",
    "# Set Working Directory (Arcpy)\n",
    "\n",
    "arcpy.env.workspace = os.getcwd() + 'Arc1_Lab02.gdb'"
   ]
  },
  {
   "cell_type": "markdown",
   "id": "b7e5b481",
   "metadata": {},
   "source": [
    "## 1\n",
    "\n",
    "Describe and build an ETL in ArcPro Jupyter Notebooks and arcpy that:\n",
    "\n",
    "a) Downloads .LAS files from MN DNR [1](https://resources.gisdata.mn.gov/pub/data/elevation/lidar/)\n",
    "    \n",
    "b) Converts the .LAS file into both a DEM and a TIN\n",
    "    \n",
    "c) Saves the new DEM and TIN to disk\n",
    "    \n",
    "d) Exports PDFs of the DEM and TIN with correct visualization (see [here](https://pro.arcgis.com/en/pro-app/latest/arcpy/mapping/introduction-to-arcpy-mp.htm))"
   ]
  },
  {
   "cell_type": "code",
   "execution_count": 2,
   "id": "1bf27905",
   "metadata": {},
   "outputs": [],
   "source": [
    "# Download Data\n",
    "\n",
    "downloaded = True\n",
    "\n",
    "if not(downloaded):\n",
    "\n",
    "    url = 'https://resources.gisdata.mn.gov/pub/data/elevation/lidar/examples/lidar_sample/las/4342-14-05.las'\n",
    "\n",
    "    response = requests.request(\"GET\", url) # Get request\n",
    "\n",
    "    # Save\n",
    "\n",
    "    with open(\"4342-14-05.las\", \"wb\") as file:\n",
    "        file.write(response.content)"
   ]
  },
  {
   "cell_type": "code",
   "execution_count": 3,
   "id": "e3ccf6d7",
   "metadata": {},
   "outputs": [],
   "source": [
    "## Make into workable format using laspy\n",
    "## see: https://medium.com/spatial-data-science/an-easy-way-to-work-and-visualize-lidar-data-in-python-eed0e028996c\n",
    "\n",
    "# las = laspy.read('4342-14-05.las')\n",
    "\n",
    "## Make into numpy 3d point cloud tensor\n",
    "\n",
    "# point_data = np.stack([las.X, las.Y, las.Z], axis=0).transpose((1, 0))\n",
    "\n",
    "## Unique classifications?\n",
    "# classifications = np.unique(np.array(las.classification))"
   ]
  },
  {
   "cell_type": "code",
   "execution_count": null,
   "id": "783938ae",
   "metadata": {},
   "outputs": [],
   "source": [
    "# Load into arcpy... As multipoint\n",
    "\n",
    "filename = \"4342-14-05.las\"\n",
    "\n",
    "arcpy.ddd.LASToMultipoint(filename, 'las_example_multipoint')\n",
    "\n",
    "# Create Terrain\n",
    "\n",
    "arcpy.ddd.CreateTerrain('las_example_multipoint', 'las_example_terrain')\n",
    "\n"
   ]
  },
  {
   "cell_type": "markdown",
   "id": "707f91e0",
   "metadata": {},
   "source": [
    "## 2\n",
    "\n",
    "Do side-by-side exploratory data analysis with a 2D map of the .las file on one\n",
    "pane and a 3D Scene of the .las file on another pane. This will be very\n",
    "computationally intensive, so use a small .las file. In your writeup, describe the\n",
    "features provided by ArcGIS for working with 2D and 3D visualization of .las files."
   ]
  },
  {
   "cell_type": "code",
   "execution_count": null,
   "id": "c7786bab",
   "metadata": {},
   "outputs": [],
   "source": []
  },
  {
   "cell_type": "markdown",
   "id": "f0299529",
   "metadata": {},
   "source": [
    "## 3\n",
    "\n",
    "Describe and build an ETL in ArcPro Jupyter Notebooks that:\n",
    "\n",
    "a. Downloads the annual 30-Year Normals .bil files for precipitation from\n",
    "PRISM [2](https://prism.oregonstate.edu/normals/)\n",
    "\n",
    "- See https://prism.oregonstate.edu/documents/PRISM_downloads_web_service.pdf for details\n",
    "- File we want: PRISM_ppt_30yr_normal_4kmM3_annual_bil.zip\n",
    "- Careful here! You cannot download the data more than once per day!!\n",
    "\n",
    "b. Converts the data into a spacetime cube and exports it to disk (see here\n",
    "for example of final conversion step; to get to this point, you will need to\n",
    "go through other transformation steps likely) [3](https://www.esri.com/arcgis-blog/products/arcgis-pro/analytics/explore-your-raster-data-with-space-time-pattern-mining/)\n",
    "\n",
    "c. Export an animation of the timeseries"
   ]
  },
  {
   "cell_type": "code",
   "execution_count": 4,
   "id": "e02ea26d",
   "metadata": {
    "tags": []
   },
   "outputs": [],
   "source": [
    "# Download Data\n",
    "\n",
    "downloaded = True # Downloaded?\n",
    "\n",
    "# Make folder for .bil files\n",
    "\n",
    "folder_name = 'PRISM_ppt_30yr_normal_4kmM3_annual_bils_by_month'\n",
    "path = os.path.join(os.getcwd(), folder_name)\n",
    "if folder_name not in os.listdir():\n",
    "    os.mkdir(path)\n",
    "    \n",
    "# Download\n",
    "    \n",
    "if not(downloaded):\n",
    "\n",
    "    for month in range(1,13): # Iterate through months\n",
    "\n",
    "        url = 'http://services.nacse.org/prism/data/public/normals/4km/ppt/' + str(month) # Url for month\n",
    "\n",
    "        response = requests.request(\"GET\", url) # Get request\n",
    "        \n",
    "        # Unload zip into the folder\n",
    "        \n",
    "        if len(response.text) == 201: # Too many requests\n",
    "            print('Failed to extract...')\n",
    "            print(response.text)\n",
    "        else: \n",
    "            zip_folder = zipfile.ZipFile(BytesIO(response.content)) # Read Response\n",
    "            zip_folder.extractall(path=path) # Extract files\n",
    "            zip_folder.close() # Close zip object"
   ]
  },
  {
   "cell_type": "code",
   "execution_count": null,
   "id": "8f967c36",
   "metadata": {},
   "outputs": [],
   "source": []
  },
  {
   "cell_type": "code",
   "execution_count": 13,
   "id": "3266a7ee",
   "metadata": {},
   "outputs": [],
   "source": [
    "# Add all as Arcpy rasters into a list\n",
    "\n",
    "bils_files = os.listdir(folder_name) # Some of these are metadata, etc.\n",
    "\n",
    "rasts = [] # Initialize raster storage\n",
    "feature_names = [] # Initialize feature_name storage\n",
    "m = 0 # Month Counter\n",
    "\n",
    "for file in bils_files:\n",
    "    if file[-4:] == '.bil': # Only want .bil files\n",
    "        path = os.path.join(folder_name, file)\n",
    "        \n",
    "        rasts += [arcpy.Raster(path)] # Store Arcpy Raster in list\n",
    "        # Arcpy Raster objects: https://pro.arcgis.com/en/pro-app/latest/arcpy/classes/raster-object.htm\n",
    "                \n",
    "        feature_names += [file.split('.')[0][:-4]] # Store feature_name\n",
    "        \n",
    "        m += 1 # Next month...\n",
    "\n"
   ]
  },
  {
   "cell_type": "code",
   "execution_count": 11,
   "id": "7754a3ce",
   "metadata": {},
   "outputs": [
    {
     "data": {
      "text/plain": [
       "[PRISM_ppt_30yr_normal_4kmM3_annual_bils_by_month\\PRISM_ppt_30yr_normal_4kmM3_01_bil.bil, PRISM_ppt_30yr_normal_4kmM3_annual_bils_by_month\\PRISM_ppt_30yr_normal_4kmM3_02_bil.bil, PRISM_ppt_30yr_normal_4kmM3_annual_bils_by_month\\PRISM_ppt_30yr_normal_4kmM3_03_bil.bil, PRISM_ppt_30yr_normal_4kmM3_annual_bils_by_month\\PRISM_ppt_30yr_normal_4kmM3_04_bil.bil, PRISM_ppt_30yr_normal_4kmM3_annual_bils_by_month\\PRISM_ppt_30yr_normal_4kmM3_05_bil.bil, PRISM_ppt_30yr_normal_4kmM3_annual_bils_by_month\\PRISM_ppt_30yr_normal_4kmM3_06_bil.bil, PRISM_ppt_30yr_normal_4kmM3_annual_bils_by_month\\PRISM_ppt_30yr_normal_4kmM3_07_bil.bil, PRISM_ppt_30yr_normal_4kmM3_annual_bils_by_month\\PRISM_ppt_30yr_normal_4kmM3_08_bil.bil, PRISM_ppt_30yr_normal_4kmM3_annual_bils_by_month\\PRISM_ppt_30yr_normal_4kmM3_09_bil.bil, PRISM_ppt_30yr_normal_4kmM3_annual_bils_by_month\\PRISM_ppt_30yr_normal_4kmM3_10_bil.bil, PRISM_ppt_30yr_normal_4kmM3_annual_bils_by_month\\PRISM_ppt_30yr_normal_4kmM3_11_bil.bil, PRISM_ppt_30yr_normal_4kmM3_annual_bils_by_month\\PRISM_ppt_30yr_normal_4kmM3_12_bil.bil]"
      ]
     },
     "execution_count": 11,
     "metadata": {},
     "output_type": "execute_result"
    }
   ],
   "source": [
    "rasts"
   ]
  },
  {
   "cell_type": "code",
   "execution_count": 14,
   "id": "56681f11",
   "metadata": {},
   "outputs": [
    {
     "data": {
      "text/plain": [
       "['PRISM_ppt_30yr_normal_4kmM3_01', 'PRISM_ppt_30yr_normal_4kmM3_02', 'PRISM_ppt_30yr_normal_4kmM3_03', 'PRISM_ppt_30yr_normal_4kmM3_04', 'PRISM_ppt_30yr_normal_4kmM3_05', 'PRISM_ppt_30yr_normal_4kmM3_06', 'PRISM_ppt_30yr_normal_4kmM3_07', 'PRISM_ppt_30yr_normal_4kmM3_08', 'PRISM_ppt_30yr_normal_4kmM3_09', 'PRISM_ppt_30yr_normal_4kmM3_10', 'PRISM_ppt_30yr_normal_4kmM3_11', 'PRISM_ppt_30yr_normal_4kmM3_12']"
      ]
     },
     "execution_count": 14,
     "metadata": {},
     "output_type": "execute_result"
    }
   ],
   "source": [
    "feature_names"
   ]
  },
  {
   "cell_type": "code",
   "execution_count": 19,
   "id": "884af613",
   "metadata": {},
   "outputs": [],
   "source": [
    "# Create point clouds...\n",
    "\n",
    "cloud_filenames = [] # Initialize filename storage\n",
    "\n",
    "for m, rast in enumerate(rasts):\n",
    "\n",
    "    # Pt Cloud Filename\n",
    "    \n",
    "    new_name = os.path.join('Pt_Clouds', feature_names[m] + '_pts.shp')\n",
    "    cloud_filenames += [new_name]\n",
    "    \n",
    "    # Create Point Cloud\n",
    "\n",
    "    arcpy.conversion.RasterToPoint(rast, new_name) # Raster to Points\n",
    "\n",
    "    arcpy.management.AddField(new_name, 'Date', 'DATE') # Create month field in pointcloud\n",
    "    \n",
    "    m_string = feature_names[m][-2:]\n",
    "    \n",
    "    date = '2020-' + m_string + '-01'\n",
    "    \n",
    "    expression = \"date()\"\n",
    "    code_block = f\"\"\"\n",
    "def date():\n",
    "    return '{date}'\n",
    "\"\"\"\n",
    "    \n",
    "    arcpy.management.CalculateField(new_name, 'Date', expression, 'PYTHON3', code_block) # Add month value"
   ]
  },
  {
   "cell_type": "code",
   "execution_count": 20,
   "id": "416ec65a",
   "metadata": {},
   "outputs": [
    {
     "data": {
      "text/html": [
       "<div class='gpresult'><h2>Messages</h2><div id='messages' data-messages='[\"Start Time: Wednesday, October 26, 2022 8:22:05 PM\",\"Succeeded at Wednesday, October 26, 2022 8:36:10 PM (Elapsed Time: 14 minutes 5 seconds)\"]' data-show='true'><div id = 'default' /></div></div>"
      ],
      "text/plain": [
       "<Result 'C:\\\\Users\\\\hendr862\\\\Desktop\\\\Arc1_Lab02_part1\\\\PRISM_ppt_30yr_normaallmonths_pts.shp'>"
      ]
     },
     "execution_count": 20,
     "metadata": {},
     "output_type": "execute_result"
    }
   ],
   "source": [
    "# Merge all point clouds (Think about clearing scratch gdb)\n",
    "\n",
    "# initialize feature class\n",
    "\n",
    "all_clouds_filename = feature_names[0][:-10] + '_allmonths_pts.shp' # Name\n",
    "\n",
    "# merge\n",
    "\n",
    "arcpy.management.Merge(cloud_filenames, \n",
    "                       all_clouds_filename, \"\", \"ADD_SOURCE_INFO\")"
   ]
  },
  {
   "cell_type": "code",
   "execution_count": 25,
   "id": "1d7306b4",
   "metadata": {},
   "outputs": [
    {
     "data": {
      "text/plain": [
       "'PRISM_ppt_30yr_normaallmonths_pts.shp'"
      ]
     },
     "execution_count": 25,
     "metadata": {},
     "output_type": "execute_result"
    }
   ],
   "source": [
    "all_clouds_filename"
   ]
  },
  {
   "cell_type": "code",
   "execution_count": 30,
   "id": "33ea0008",
   "metadata": {},
   "outputs": [
    {
     "name": "stderr",
     "output_type": "stream",
     "text": [
      "Traceback (most recent call last):\n",
      "  File \"c:\\program files\\arcgis\\pro\\Resources\\ArcToolbox\\scripts\\ga_server_createspacetimecube.py\", line 49, in <module>\n",
      "    output = ga.run_portal_tool(params)\n",
      "  File \"C:\\Program Files\\ArcGIS\\Pro\\Resources\\ArcToolbox\\Scripts\\geoanalyticssoap.py\", line 93, in run_portal_tool\n",
      "    self.add_toolbox()\n",
      "  File \"C:\\Program Files\\ArcGIS\\Pro\\Resources\\ArcToolbox\\Scripts\\geoanalyticssoap.py\", line 77, in add_toolbox\n",
      "    arcpy.ImportToolbox(self.toolbox)\n",
      "  File \"C:\\Program Files\\ArcGIS\\Pro\\Resources\\ArcPy\\arcpy\\__init__.py\", line 171, in ImportToolbox\n",
      "    return import_toolbox(input_file, module_name)\n",
      "  File \"C:\\Program Files\\ArcGIS\\Pro\\Resources\\ArcPy\\arcpy\\toolbox_code.py\", line 486, in import_toolbox\n",
      "    toolbox = gp.createObject(\"Toolbox\", tbxfile)\n",
      "  File \"C:\\Program Files\\ArcGIS\\Pro\\Resources\\ArcPy\\arcpy\\geoprocessing\\_base.py\", line 389, in createObject\n",
      "    self._gp.CreateObject(*gp_fixargs(args, True)))\n",
      "OSError: The toolbox file https://geoanalytics.arcgis.com/arcgis;services/GeoAnalyticsTools;UseSSOIdentityIfPortalOwned was not found.\n"
     ]
    },
    {
     "ename": "ExecuteError",
     "evalue": "ERROR 000582: Error occurred during execution.\n",
     "output_type": "error",
     "traceback": [
      "\u001b[0;31m---------------------------------------------------------------------------\u001b[0m\n\u001b[0;31mExecuteError\u001b[0m                              Traceback (most recent call last)",
      "In  \u001b[0;34m[30]\u001b[0m:\nLine \u001b[0;34m6\u001b[0m:     arcpy.geoanalytics.CreateSpaceTimeCube(all_clouds_filename,\n",
      "File \u001b[0;34mC:\\Program Files\\ArcGIS\\Pro\\Resources\\ArcPy\\arcpy\\geoanalytics.py\u001b[0m, in \u001b[0;32mCreateSpaceTimeCube\u001b[0m:\nLine \u001b[0;34m218\u001b[0m:   \u001b[34mraise\u001b[39;49;00m e\n",
      "File \u001b[0;34mC:\\Program Files\\ArcGIS\\Pro\\Resources\\ArcPy\\arcpy\\geoanalytics.py\u001b[0m, in \u001b[0;32mCreateSpaceTimeCube\u001b[0m:\nLine \u001b[0;34m215\u001b[0m:   retval = convertArcObjectToPythonObject(gp.CreateSpaceTimeCube_geoanalytics(*gp_fixargs((point_layer, output_name, distance_interval, time_step_interval, time_step_interval_alignment, reference_time, summary_fields), \u001b[34mTrue\u001b[39;49;00m)))\n",
      "File \u001b[0;34mC:\\Program Files\\ArcGIS\\Pro\\Resources\\ArcPy\\arcpy\\geoprocessing\\_base.py\u001b[0m, in \u001b[0;32m<lambda>\u001b[0m:\nLine \u001b[0;34m512\u001b[0m:   \u001b[34mreturn\u001b[39;49;00m \u001b[34mlambda\u001b[39;49;00m *args: val(*gp_fixargs(args, \u001b[34mTrue\u001b[39;49;00m))\n",
      "\u001b[0;31mExecuteError\u001b[0m: ERROR 000582: Error occurred during execution.\n\n\u001b[0;31m---------------------------------------------------------------------------\u001b[0m"
     ]
    }
   ],
   "source": [
    "# Convert to SpacetimeCube\n",
    "\n",
    "spacetime_cube_name = all_clouds_filename[0:-7] + 'spacetimecube'\n",
    "\n",
    "\n",
    "arcpy.geoanalytics.CreateSpaceTimeCube(all_clouds_filename,\n",
    "                               spacetime_cube_name,\n",
    "                                '1 Kilometers',\n",
    "                                '1 Months'\n",
    "                              )\n"
   ]
  },
  {
   "cell_type": "code",
   "execution_count": null,
   "id": "8fa9b4cc",
   "metadata": {},
   "outputs": [],
   "source": []
  }
 ],
 "metadata": {
  "kernelspec": {
   "display_name": "ArcGISPro",
   "language": "Python",
   "name": "python3"
  },
  "language_info": {
   "file_extension": ".py",
   "name": "python",
   "version": "3"
  }
 },
 "nbformat": 4,
 "nbformat_minor": 5
}
