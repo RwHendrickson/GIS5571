{
 "cells": [
  {
   "cell_type": "code",
   "execution_count": 1,
   "metadata": {},
   "outputs": [
    {
     "data": {
      "text/html": [
       "<div class='gpresult'><h2>Messages</h2><div id='messages' data-messages='[\"Start Time: Wednesday, September 21, 2022 10:09:03 PM\",\"Succeeded at Wednesday, September 21, 2022 10:09:09 PM (Elapsed Time: 6.75 seconds)\"]' data-show='true'><div id = 'default' /></div></div>"
      ],
      "text/plain": [
       "<Result 'C:\\\\Users\\\\HAL\\\\Desktop\\\\Lab0\\\\Arc1_Lab0.gdb\\\\mpls_aadt_buffed_nb'>"
      ]
     },
     "execution_count": 1,
     "metadata": {},
     "output_type": "execute_result"
    }
   ],
   "source": [
    "# This is creating a buffer in ArcPro Notebooks\n",
    "\n",
    "arcpy.analysis.Buffer(in_features = 'mpls_aadt',\n",
    "                      out_feature_class='mpls_aadt_buffed_nb',\n",
    "                      buffer_distance_or_field='250 Meters',\n",
    "                      method='Geodesic')"
   ]
  },
  {
   "cell_type": "code",
   "execution_count": null,
   "metadata": {},
   "outputs": [],
   "source": []
  }
 ],
 "metadata": {
  "kernelspec": {
   "display_name": "ArcGISPro",
   "language": "Python",
   "name": "python3"
  },
  "language_info": {
   "file_extension": ".py",
   "name": "python",
   "version": "3"
  }
 },
 "nbformat": 4,
 "nbformat_minor": 2
}
